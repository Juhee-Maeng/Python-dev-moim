{
 "cells": [
  {
   "cell_type": "code",
   "execution_count": 2,
   "metadata": {
    "ExecuteTime": {
     "end_time": "2020-03-12T04:52:52.896557Z",
     "start_time": "2020-03-12T04:52:52.887529Z"
    }
   },
   "outputs": [],
   "source": [
    "hero_name = '아이언맨'\n",
    "hero_health = 100\n",
    "hero_damage = 200\n",
    "hero_inventory = [\n",
    "    {'gold': 500},\n",
    "    {'weapon': '레이저'}]\n",
    "\n",
    "# 히어로 1\n",
    "hero_1_name = '아이언맨'\n",
    "hero_1_health = 100\n",
    "hero_1_damage = 200\n",
    "hero_1_inventory = [\n",
    "    {'gold': 500},\n",
    "    {'weapon': '레이저'}\n",
    "]\n",
    "\n",
    "# 히어로 2\n",
    "hero_2_name = '데드풀'\n",
    "hero_2_health = 300\n",
    "hero_2_damage = 30\n",
    "hero_2_inventory = [\n",
    "    {'gold': 300},\n",
    "    {'weapon': '장검'}\n",
    "]\n",
    "\n",
    "# 히어로 3\n",
    "hero_3_name = '울버린'\n",
    "hero_3_health = 200\n",
    "hero_3_damage = 50\n",
    "hero_3_inventory = [\n",
    "    {'gold': 350},\n",
    "    {'weapon': '클로'}\n",
    "]\n",
    "\n",
    "# 몬스터 1\n",
    "monster_1_name = '고블린'\n",
    "monster_1_health = 90\n",
    "monster_1_damage = 30\n",
    "monster_1_inventory = [\n",
    "    {'gold': 50},\n",
    "    {'weapon': '창'}\n",
    "]\n",
    "\n",
    "# 몬스터 2\n",
    "monster_2_name = '드래곤'\n",
    "monster_2_health = 200\n",
    "monster_2_damage = 80\n",
    "monster_2_inventory = [\n",
    "    {'gold': 200},\n",
    "    {'weapon': '화염'}\n",
    "]\n",
    "\n",
    "# 몬스터 3\n",
    "monster_3_name = '뱀파이어'\n",
    "monster_3_health = 80\n",
    "monster_3_damage = 120\n",
    "monster_3_inventory = [\n",
    "    {'gold': 1000},\n",
    "    {'weapon': '최면술'}\n",
    "]"
   ]
  },
  {
   "cell_type": "markdown",
   "metadata": {},
   "source": [
    "누군가 프로그래밍의 기본은 복사와 붙여넣기라고 했는데... 열심히 복사해서 붙여넣었습니다. ㅎ 그런데 위의 코드는 누가봐도 잘 만들어진 코드는 아닌 것 같네요. 리스트를 사용하여 조금 더 세련된 코드를 만들어 보겠습니다."
   ]
  },
  {
   "cell_type": "code",
   "execution_count": 4,
   "metadata": {
    "ExecuteTime": {
     "end_time": "2020-03-12T04:55:35.708466Z",
     "start_time": "2020-03-12T04:55:35.703464Z"
    }
   },
   "outputs": [],
   "source": [
    "\n",
    "hero_name = ['아이언맨', '데드풀', '울버린']\n",
    "hero_health = [100, 300, 200]\n",
    "hero_damage = [200, 30, 50]\n",
    "hero_inventory = [\n",
    "    {'gold': 500,'weapon': '레이저'},\n",
    "    {'gold': 300, 'weapon': '장검'},\n",
    "    {'gold': 350, 'weapon': '클로'}\n",
    "]\n",
    "\n",
    "monster_name = ['고블린', '드래곤', '뱀파이어']\n",
    "monster_health = [90, 200, 80]\n",
    "monster_damage = [30, 80, 120]\n",
    "monster_inventory = [\n",
    "    {'gold': 50,'weapon': '창'},\n",
    "    {'gold': 200, 'weapon': '화염'},\n",
    "    {'gold': 1000, 'weapon': '최면술'}\n",
    "]"
   ]
  },
  {
   "cell_type": "code",
   "execution_count": 7,
   "metadata": {
    "ExecuteTime": {
     "end_time": "2020-03-12T04:57:23.166930Z",
     "start_time": "2020-03-12T04:57:23.159031Z"
    }
   },
   "outputs": [],
   "source": [
    "import json\n",
    "\n",
    "hero_name = ['아이언맨', '데드풀', '울버린']\n",
    "hero_health = [100, 300, 200]\n",
    "hero_damage = [200, 30, 50]\n",
    "hero_inventory = [\n",
    "    {'gold': 500,'weapon': '레이저'},\n",
    "    {'gold': 300, 'weapon': '장검'},\n",
    "    {'gold': 350, 'weapon': '클로'}\n",
    "]\n",
    "\n",
    "monster_name = ['고블린', '드래곤', '뱀파이어']\n",
    "monster_health = [90, 200, 80]\n",
    "monster_damage = [30, 80, 120]\n",
    "monster_inventory = [\n",
    "    {'gold': 50,'weapon': '창'},\n",
    "    {'gold': 200, 'weapon': '화염'},\n",
    "    {'gold': 1000, 'weapon': '최면술'}\n",
    "]\n",
    "\n",
    "# 히어로가 죽으면 호출되는 함수\n",
    "def hero_dies(hero_index):\n",
    "    del hero_name[hero_index]\n",
    "    del hero_health[hero_index]\n",
    "    del hero_damage[hero_index]\n",
    "    # <--- 개발자가 실수로 del hero_inventory[hero_index]를 빠뜨렸네요."
   ]
  },
  {
   "cell_type": "code",
   "execution_count": 8,
   "metadata": {
    "ExecuteTime": {
     "end_time": "2020-03-12T04:57:23.723517Z",
     "start_time": "2020-03-12T04:57:23.718519Z"
    }
   },
   "outputs": [
    {
     "name": "stdout",
     "output_type": "stream",
     "text": [
      "데드풀\n",
      "300\n",
      "30\n",
      "{'gold': 500, 'weapon': '레이저'}\n"
     ]
    }
   ],
   "source": [
    "# 함수를 실행합니다.\n",
    "# 데드풀이 아이언맨에 기술을 씁니다. 코드 누락으로 인해\n",
    "hero_dies(0)\n",
    "\n",
    "print(hero_name[0])\n",
    "print(hero_health[0])\n",
    "print(hero_damage[0])\n",
    "print(hero_inventory[0])"
   ]
  },
  {
   "cell_type": "markdown",
   "metadata": {},
   "source": [
    "- 위에 문제를 해결한 코드 입니다."
   ]
  },
  {
   "cell_type": "code",
   "execution_count": 9,
   "metadata": {
    "ExecuteTime": {
     "end_time": "2020-03-12T04:59:19.592399Z",
     "start_time": "2020-03-12T04:59:19.584467Z"
    }
   },
   "outputs": [
    {
     "name": "stdout",
     "output_type": "stream",
     "text": [
      "[{'name': '아이언맨', 'health': 100, 'damage': 200, 'inventory': {'gold': 500, 'weapon': '레이저'}}, {'name': '데드풀', 'health': 300, 'damage': 30, 'inventory': {'gold': 300, 'weapon': '장검'}}, {'name': '울버린', 'health': 200, 'damage': 50, 'inventory': {'gold': 350, 'weapon': '클로'}}]\n",
      "[{'name': '데드풀', 'health': 300, 'damage': 30, 'inventory': {'gold': 300, 'weapon': '장검'}}, {'name': '울버린', 'health': 200, 'damage': 50, 'inventory': {'gold': 350, 'weapon': '클로'}}]\n"
     ]
    }
   ],
   "source": [
    "# 문제 없이 아이언맨에 정보들이 삭제 됩니다.\n",
    "heroes = [\n",
    "    {'name': '아이언맨', 'health': 100, 'damage': 200, 'inventory': {'gold': 500, 'weapon': '레이저'}},\n",
    "    {'name': '데드풀', 'health': 300, 'damage': 30, 'inventory': {'gold': 300, 'weapon': '장검'}},\n",
    "    {'name': '울버린', 'health': 200, 'damage': 50, 'inventory': {'gold': 350, 'weapon': '클로'}}\n",
    "]\n",
    "\n",
    "monsters = [\n",
    "    {'name': '고블린', 'health': 90, 'damage': 30, 'inventory': {'gold': 50, 'weapon': '창'}},\n",
    "    {'name': '드래곤', 'health': 200, 'damage': 80, 'inventory': {'gold': 200, 'weapon': '화염'}},\n",
    "    {'name': '뱀파이어', 'health': 80, 'damage': 120, 'inventory': {'gold': 1000, 'weapon': '최면술'}}\n",
    "]\n",
    "print(heroes)\n",
    "del heroes[0]\n",
    "print(heroes)"
   ]
  },
  {
   "cell_type": "markdown",
   "metadata": {},
   "source": [
    "- 이 방법을 통해 데이터 핸들링은 쉬워졌지만, 만약 히어로의 인벤토리에 여러가지 아이템을 가진 가방이 있다고 했을 때 사전과 리스트는 중첩이 되고 코드는 더욱 더 복잡해질 것 입니다. 또 다른 문제점으로는 똑같은 코드가 많이 반복되는 것을 볼 수가 있습니다. 이런 경우가 OOP를 사용해야 하는 좋은 예입니다. OOP를 사용하여 반복되는 코드를 없애고 사전이나 리스트가 지원하지 않는 상속과 같은 클래스의 기능을 사용할 수가 있습니다."
   ]
  },
  {
   "cell_type": "code",
   "execution_count": 29,
   "metadata": {
    "ExecuteTime": {
     "end_time": "2020-03-12T05:28:20.284838Z",
     "start_time": "2020-03-12T05:28:20.274822Z"
    }
   },
   "outputs": [
    {
     "name": "stdout",
     "output_type": "stream",
     "text": [
      "[아이언맨, 데드풀, 울버린]\n",
      "[고블린, 드래곤, 뱀파이어]\n",
      "[데드풀, 울버린]\n"
     ]
    }
   ],
   "source": [
    "# class 정의\n",
    "class Character(object):\n",
    "    def __init__(self, name, health, damage, inventory):\n",
    "        self.name = name\n",
    "        self.health = health\n",
    "        self.damage = damage\n",
    "        self.inventory = inventory\n",
    "        \n",
    "    def __repr__(self):\n",
    "        return self.name\n",
    "        \n",
    "# Character 클래스의 오브젝트 생성\n",
    "heroes = []\n",
    "heroes.append(Character('아이언맨', 100, 200, {'gold': 500, 'weapon': '레이저'}))\n",
    "heroes.append(Character('데드풀', 300, 30, {'gold': 300, 'weapon': '장검'}))\n",
    "heroes.append(Character('울버린', 200, 50, {'gold': 350, 'weapon': '클로'}))\n",
    "\n",
    "monsters = []\n",
    "monsters.append(Character('고블린', 90, 30, {'gold': 50, 'weapon': '창'}))\n",
    "monsters.append(Character('드래곤', 200, 80, {'gold': 200, 'weapon': '화염'}))\n",
    "monsters.append(Character('뱀파이어', 80, 120, {'gold': 1000, 'weapon': '최면술'}))\n",
    "\n",
    "print(heroes)  # 히어로 리스트 확인\n",
    "print(monsters)  # 몬스터 리스트 확인\n",
    "del(heroes[0])  # 히어로 리스트에서 아이언맨 삭제\n",
    "print(heroes)  # 히어로 리스트 재확인"
   ]
  },
  {
   "cell_type": "markdown",
   "metadata": {},
   "source": [
    "### 오브젝트란?\n",
    "\n",
    "오브젝트란 데이터를 조금 더 쉽게 다루기 위해서 \"네임스페이스\"라는 것을 이용하여 만든 논리적인 집합입니다. 학교에서 학생들을 관리하기 위해서 학년을 나누고 반을 나누는 것처럼요. 파이썬 사전을 만드는 것과 클래스와 모듈로 데이터 집합을 만드는 것 모두 데이터를 손쉽게 저장, 변경 또는 엑세스 할 수 있도록 오브젝트를 만드는 것 입니다."
   ]
  },
  {
   "cell_type": "code",
   "execution_count": 31,
   "metadata": {
    "ExecuteTime": {
     "end_time": "2020-03-12T05:39:31.430607Z",
     "start_time": "2020-03-12T05:39:31.425601Z"
    }
   },
   "outputs": [
    {
     "name": "stdout",
     "output_type": "stream",
     "text": [
      "이상희, 2학년 3반 35번\n"
     ]
    }
   ],
   "source": [
    "student = {'name': '이상희', 'year': 2, 'class': 3, 'student_id': 35}\n",
    "\n",
    "print('{}, {}학년 {}반 {}번'.format(student['name'], student['year'], student['class'], student['student_id']))"
   ]
  },
  {
   "cell_type": "code",
   "execution_count": 33,
   "metadata": {
    "ExecuteTime": {
     "end_time": "2020-03-12T05:40:08.231704Z",
     "start_time": "2020-03-12T05:40:08.225706Z"
    }
   },
   "outputs": [
    {
     "name": "stdout",
     "output_type": "stream",
     "text": [
      "이상희, 2학년 3반 35번\n"
     ]
    }
   ],
   "source": [
    "# 위 코드를 클래스화 한것\n",
    "class Student(object):\n",
    "    def __init__(self, name, year, class_num, student_id):  # 파이썬 키워드인 class는 인수 이름으로 사용하지 못 합니다.\n",
    "        self.name = name\n",
    "        self.year = year\n",
    "        self.class_num = class_num\n",
    "        self.student_id = student_id\n",
    "        \n",
    "    def introduce_myself(self):\n",
    "        return '{}, {}학년 {}반 {}번'.format(self.name, self.year, self.class_num, self.student_id)\n",
    "\n",
    "student = Student('이상희', 2, 3, 35)\n",
    "print(student.introduce_myself())"
   ]
  },
  {
   "cell_type": "code",
   "execution_count": 34,
   "metadata": {
    "ExecuteTime": {
     "end_time": "2020-03-12T05:45:57.361480Z",
     "start_time": "2020-03-12T05:45:57.357581Z"
    }
   },
   "outputs": [
    {
     "name": "stdout",
     "output_type": "stream",
     "text": [
      "['__add__', '__class__', '__contains__', '__delattr__', '__dir__', '__doc__', '__eq__', '__format__', '__ge__', '__getattribute__', '__getitem__', '__getnewargs__', '__gt__', '__hash__', '__init__', '__init_subclass__', '__iter__', '__le__', '__len__', '__lt__', '__mod__', '__mul__', '__ne__', '__new__', '__reduce__', '__reduce_ex__', '__repr__', '__rmod__', '__rmul__', '__setattr__', '__sizeof__', '__str__', '__subclasshook__', 'capitalize', 'casefold', 'center', 'count', 'encode', 'endswith', 'expandtabs', 'find', 'format', 'format_map', 'index', 'isalnum', 'isalpha', 'isascii', 'isdecimal', 'isdigit', 'isidentifier', 'islower', 'isnumeric', 'isprintable', 'isspace', 'istitle', 'isupper', 'join', 'ljust', 'lower', 'lstrip', 'maketrans', 'partition', 'replace', 'rfind', 'rindex', 'rjust', 'rpartition', 'rsplit', 'rstrip', 'split', 'splitlines', 'startswith', 'strip', 'swapcase', 'title', 'translate', 'upper', 'zfill']\n"
     ]
    }
   ],
   "source": [
    "text = 'string'\n",
    "print(dir(text)) # str 데이터타입에 정의된 모든 속성과 메소드를 상속 받은것."
   ]
  },
  {
   "cell_type": "code",
   "execution_count": 37,
   "metadata": {
    "ExecuteTime": {
     "end_time": "2020-03-12T05:47:49.444029Z",
     "start_time": "2020-03-12T05:47:49.440024Z"
    }
   },
   "outputs": [
    {
     "name": "stdout",
     "output_type": "stream",
     "text": [
      "<class 'str'>\n",
      "True\n",
      "STRING\n"
     ]
    }
   ],
   "source": [
    "text = 'string'\n",
    "\n",
    "# text의 클래스 확인\n",
    "print(text.__class__)  # <type 'str'>\n",
    "\n",
    "# text가 str의 인스턴스 오브젝트인지 확인\n",
    "print(isinstance(text, str))  # True\n",
    "\n",
    "# 메소드 확인\n",
    "print(text.upper())  # STRING"
   ]
  },
  {
   "cell_type": "code",
   "execution_count": 42,
   "metadata": {
    "ExecuteTime": {
     "end_time": "2020-03-12T05:51:51.606049Z",
     "start_time": "2020-03-12T05:51:51.601047Z"
    }
   },
   "outputs": [
    {
     "name": "stdout",
     "output_type": "stream",
     "text": [
      "['__annotations__', '__call__', '__class__', '__closure__', '__code__', '__defaults__', '__delattr__', '__dict__', '__dir__', '__doc__', '__eq__', '__format__', '__ge__', '__get__', '__getattribute__', '__globals__', '__gt__', '__hash__', '__init__', '__init_subclass__', '__kwdefaults__', '__le__', '__lt__', '__module__', '__name__', '__ne__', '__new__', '__qualname__', '__reduce__', '__reduce_ex__', '__repr__', '__setattr__', '__sizeof__', '__str__', '__subclasshook__'] \n",
      "\n",
      "my_function에 대한 설명입니다~! \n",
      "\n",
      "['__annotations__', '__call__', '__class__', '__closure__', '__code__', '__defaults__', '__delattr__', '__dict__', '__dir__', '__doc__', '__eq__', '__format__', '__ge__', '__get__', '__getattribute__', '__globals__', '__gt__', '__hash__', '__init__', '__init_subclass__', '__kwdefaults__', '__le__', '__lt__', '__module__', '__name__', '__ne__', '__new__', '__qualname__', '__reduce__', '__reduce_ex__', '__repr__', '__setattr__', '__sizeof__', '__str__', '__subclasshook__', 'new_variable'] \n",
      "\n",
      "새로운 변수입니다. \n",
      "\n"
     ]
    }
   ],
   "source": [
    "def my_function():\n",
    "    '''my_function에 대한 설명입니다~!'''\n",
    "    pass\n",
    "\n",
    "# my_function의 속성 확인\n",
    "print(dir(my_function), '\\n')\n",
    "\n",
    "# my_function의 docstring 출력\n",
    "print(my_function.__doc__, '\\n') # ''' 사이의 내용''' = docstring 이라고하는 것 같음.\n",
    "\n",
    "# my_function에 새로운 속성 추가\n",
    "my_function.new_variable = '새로운 변수입니다.'\n",
    "\n",
    "# 추가된 속성 확인\n",
    "print(dir(my_function), '\\n')\n",
    "\n",
    "# 추가한 속성값 출력\n",
    "print(my_function.new_variable, '\\n')"
   ]
  },
  {
   "cell_type": "code",
   "execution_count": 44,
   "metadata": {
    "ExecuteTime": {
     "end_time": "2020-03-12T05:58:42.869498Z",
     "start_time": "2020-03-12T05:58:42.862525Z"
    }
   },
   "outputs": [
    {
     "name": "stdout",
     "output_type": "stream",
     "text": [
      "2443437731528\n",
      "2443437731208\n",
      "2443420245256\n",
      "2443420245256\n"
     ]
    }
   ],
   "source": [
    "# 클래스를 사용하여 새로운 데이터 타입을 만들어보고 그 데이터타입의 인스턴스 오브젝트를 만들어보자.\n",
    "class Employee(object):\n",
    "    pass\n",
    "\n",
    "emp_1 = Employee()\n",
    "emp_2 = Employee()\n",
    "\n",
    "# emp_1과 emp_2는 다른 메모리 주소값을 가진 별개의 오브젝트입니다.\n",
    "print(id(emp_1))\n",
    "print(id(emp_2))\n",
    "\n",
    "# emp_1과 emp_2는 같은 클래스의 인스턴스인 것을 확인합니다.\n",
    "class_of_emp_1 = emp_1.__class__\n",
    "class_of_emp_2 = emp_2.__class__\n",
    "print(id(class_of_emp_1))\n",
    "print(id(class_of_emp_2))\n",
    "\n",
    "#Employee라는 클래스를 정의하고 emp_1, emp_2라는 인스턴스를 만들었습니다. \n",
    "#그리고 id()함수를 이용하여 emp_1과 emp_2가 다른 메모리 주소값을 가진 별개의 오브젝트라는 것을 확인하였습니다. \n",
    "#그리고 둘다 같은 클래스의 인스턴스라는 것도 확인하였습니다."
   ]
  },
  {
   "cell_type": "code",
   "execution_count": 46,
   "metadata": {
    "ExecuteTime": {
     "end_time": "2020-03-12T06:01:32.085389Z",
     "start_time": "2020-03-12T06:01:32.078383Z"
    }
   },
   "outputs": [
    {
     "name": "stdout",
     "output_type": "stream",
     "text": [
      "sanghee.lee@schoolofweb.net\n",
      "minjung.kim@schoolofweb.net\n"
     ]
    }
   ],
   "source": [
    "class Employee(object):\n",
    "    pass\n",
    "\n",
    "emp_1 = Employee()\n",
    "emp_2 = Employee()\n",
    "\n",
    "# 인스턴스 변수에 데이터 저장\n",
    "emp_1.first = 'Sanghee'\n",
    "emp_1.last = 'Lee'\n",
    "emp_1.email = 'sanghee.lee@schoolofweb.net'\n",
    "emp_1.pay = 50000\n",
    "\n",
    "emp_2.first = 'Minjung'\n",
    "emp_2.last = 'Kim'\n",
    "emp_2.email = 'minjung.kim@schoolofweb.net'\n",
    "emp_2.pay = 60000\n",
    "\n",
    "# 인스턴스 변수 데이터에 엑세스\n",
    "print(emp_1.email)\n",
    "print(emp_2.email)"
   ]
  },
  {
   "cell_type": "code",
   "execution_count": 47,
   "metadata": {
    "ExecuteTime": {
     "end_time": "2020-03-12T06:02:56.068465Z",
     "start_time": "2020-03-12T06:02:56.062564Z"
    }
   },
   "outputs": [
    {
     "name": "stdout",
     "output_type": "stream",
     "text": [
      "sanghee.lee@schoolofweb.net\n",
      "minjung.kim@schoolofweb.net\n",
      "Sanghee Lee\n"
     ]
    }
   ],
   "source": [
    "class Employee(object):\n",
    "    def __init__(self, first, last, pay):\n",
    "        self.first = first\n",
    "        self.last = last\n",
    "        self.pay = pay\n",
    "        self.email = first.lower() + '.' + last.lower() + '@schoolofweb.net'\n",
    "\n",
    "emp_1 = Employee('Sanghee', 'Lee', 50000)\n",
    "emp_2 = Employee('Minjung', 'Kim', 60000)\n",
    "\n",
    "print(emp_1.email)\n",
    "print(emp_2.email)\n",
    "\n",
    "# emp_1의 풀네임 출력\n",
    "print('{} {}'.format(emp_1.first, emp_1.last)) # 이 코드를 클래스의 메소드로 만들어 보자."
   ]
  },
  {
   "cell_type": "code",
   "execution_count": 48,
   "metadata": {
    "ExecuteTime": {
     "end_time": "2020-03-12T06:06:00.569413Z",
     "start_time": "2020-03-12T06:06:00.562414Z"
    }
   },
   "outputs": [
    {
     "name": "stdout",
     "output_type": "stream",
     "text": [
      "Sanghee Lee\n"
     ]
    }
   ],
   "source": [
    "class Employee(object):\n",
    "    def __init__(self, first, last, pay):\n",
    "        self.first = first\n",
    "        self.last = last\n",
    "        self.pay = pay\n",
    "        self.email = first.lower() + '.' + last.lower() + '@schoolofweb.net'\n",
    "        \n",
    "    def full_name(self):\n",
    "        return '{} {}'.format(self.first, self.last)\n",
    "\n",
    "emp_1 = Employee('Sanghee', 'Lee', 50000)\n",
    "emp_2 = Employee('Minjung', 'Kim', 60000)\n",
    "\n",
    "# emp_1의 풀네임 출력\n",
    "print(emp_1.full_name()) # Employee.full_name(emp_1)과 같다."
   ]
  },
  {
   "cell_type": "markdown",
   "metadata": {},
   "source": [
    "## 클래스 변수\n",
    "- 인스턴스 변수가 사람의 이름과 같이 각각의 인스턴스마다 가지고 있는 고유한 데이터라면, 클래스 변수는 한 단체의 단체명과 같이 같은 클래스로 만들어진 모든 인스턴스가 공유하는 데이터입니다.\n",
    "- 어떤 회사가 직원들의 연봉을 매년 1회 인상해 주는데 특이하게도 전직원의 연봉을 똑같은 인상률로 인상해준다고 합니다. 올해는 회사 매출이 높아서 전직원의 연봉을 10%씩 올려준다고 하네요."
   ]
  },
  {
   "cell_type": "code",
   "execution_count": 49,
   "metadata": {
    "ExecuteTime": {
     "end_time": "2020-03-12T06:09:14.614910Z",
     "start_time": "2020-03-12T06:09:14.606917Z"
    }
   },
   "outputs": [
    {
     "name": "stdout",
     "output_type": "stream",
     "text": [
      "50000\n",
      "55000\n"
     ]
    }
   ],
   "source": [
    "class Employee(object):\n",
    "    def __init__(self, first, last, pay):\n",
    "        self.first = first\n",
    "        self.last = last\n",
    "        self.pay = pay\n",
    "        self.email = first.lower() + '.' + last.lower() + '@schoolofweb.net'\n",
    "        \n",
    "    def full_name(self):\n",
    "        return '{} {}'.format(self.first, self.last)\n",
    "    \n",
    "    def apply_raise(self):\n",
    "        self.pay = int(self.pay * 1.1)  #1 연봉을 10% 인상합니다.\n",
    "\n",
    "emp_1 = Employee('Sanghee', 'Lee', 50000)\n",
    "emp_2 = Employee('Minjung', 'Kim', 60000)\n",
    "\n",
    "print(emp_1.pay)  # 기존 연봉\n",
    "emp_1.apply_raise()  # 인상률 적용\n",
    "print(emp_1.pay)  # 오른 연봉\n",
    "\n",
    "# 이 코드는 하드코딩한 좋지 않은 예 입니다. 1.1 이라는 변수가 여러곳에서 사용한다면 바뀔때마다 일일이 변경해주어야합니다."
   ]
  },
  {
   "cell_type": "code",
   "execution_count": 2,
   "metadata": {
    "ExecuteTime": {
     "end_time": "2020-03-12T06:13:21.404775Z",
     "start_time": "2020-03-12T06:13:21.388682Z"
    }
   },
   "outputs": [
    {
     "name": "stdout",
     "output_type": "stream",
     "text": [
      "50000\n"
     ]
    },
    {
     "ename": "NameError",
     "evalue": "name 'raise_amount' is not defined",
     "output_type": "error",
     "traceback": [
      "\u001b[1;31m---------------------------------------------------------------------------\u001b[0m",
      "\u001b[1;31mNameError\u001b[0m                                 Traceback (most recent call last)",
      "\u001b[1;32m<ipython-input-2-64088f603764>\u001b[0m in \u001b[0;36m<module>\u001b[1;34m\u001b[0m\n\u001b[0;32m     19\u001b[0m \u001b[1;33m\u001b[0m\u001b[0m\n\u001b[0;32m     20\u001b[0m \u001b[0mprint\u001b[0m\u001b[1;33m(\u001b[0m\u001b[0memp_1\u001b[0m\u001b[1;33m.\u001b[0m\u001b[0mpay\u001b[0m\u001b[1;33m)\u001b[0m  \u001b[1;31m# 기존 연봉\u001b[0m\u001b[1;33m\u001b[0m\u001b[1;33m\u001b[0m\u001b[0m\n\u001b[1;32m---> 21\u001b[1;33m \u001b[0memp_1\u001b[0m\u001b[1;33m.\u001b[0m\u001b[0mapply_raise\u001b[0m\u001b[1;33m(\u001b[0m\u001b[1;33m)\u001b[0m  \u001b[1;31m# 인상률 적용\u001b[0m\u001b[1;33m\u001b[0m\u001b[1;33m\u001b[0m\u001b[0m\n\u001b[0m\u001b[0;32m     22\u001b[0m \u001b[0mprint\u001b[0m\u001b[1;33m(\u001b[0m\u001b[0memp_1\u001b[0m\u001b[1;33m.\u001b[0m\u001b[0mpay\u001b[0m\u001b[1;33m)\u001b[0m  \u001b[1;31m# 오른 연봉\u001b[0m\u001b[1;33m\u001b[0m\u001b[1;33m\u001b[0m\u001b[0m\n",
      "\u001b[1;32m<ipython-input-2-64088f603764>\u001b[0m in \u001b[0;36mapply_raise\u001b[1;34m(self)\u001b[0m\n\u001b[0;32m     13\u001b[0m \u001b[1;33m\u001b[0m\u001b[0m\n\u001b[0;32m     14\u001b[0m     \u001b[1;32mdef\u001b[0m \u001b[0mapply_raise\u001b[0m\u001b[1;33m(\u001b[0m\u001b[0mself\u001b[0m\u001b[1;33m)\u001b[0m\u001b[1;33m:\u001b[0m\u001b[1;33m\u001b[0m\u001b[1;33m\u001b[0m\u001b[0m\n\u001b[1;32m---> 15\u001b[1;33m         \u001b[0mself\u001b[0m\u001b[1;33m.\u001b[0m\u001b[0mpay\u001b[0m \u001b[1;33m=\u001b[0m \u001b[0mint\u001b[0m\u001b[1;33m(\u001b[0m\u001b[0mself\u001b[0m\u001b[1;33m.\u001b[0m\u001b[0mpay\u001b[0m \u001b[1;33m*\u001b[0m \u001b[0mraise_amount\u001b[0m\u001b[1;33m)\u001b[0m  \u001b[1;31m#2 클래스 변수 사용\u001b[0m\u001b[1;33m\u001b[0m\u001b[1;33m\u001b[0m\u001b[0m\n\u001b[0m\u001b[0;32m     16\u001b[0m \u001b[1;33m\u001b[0m\u001b[0m\n\u001b[0;32m     17\u001b[0m \u001b[0memp_1\u001b[0m \u001b[1;33m=\u001b[0m \u001b[0mEmployee\u001b[0m\u001b[1;33m(\u001b[0m\u001b[1;34m'Sanghee'\u001b[0m\u001b[1;33m,\u001b[0m \u001b[1;34m'Lee'\u001b[0m\u001b[1;33m,\u001b[0m \u001b[1;36m50000\u001b[0m\u001b[1;33m)\u001b[0m\u001b[1;33m\u001b[0m\u001b[1;33m\u001b[0m\u001b[0m\n",
      "\u001b[1;31mNameError\u001b[0m: name 'raise_amount' is not defined"
     ]
    }
   ],
   "source": [
    "class Employee(object):\n",
    "    \n",
    "    raise_amount = 1.1  #1 클래스 변수 정의\n",
    "    \n",
    "    def __init__(self, first, last, pay):\n",
    "        self.first = first\n",
    "        self.last = last\n",
    "        self.pay = pay\n",
    "        self.email = first.lower() + '.' + last.lower() + '@schoolofweb.net'\n",
    "        \n",
    "    def full_name(self):\n",
    "        return '{} {}'.format(self.first, self.last)\n",
    "    \n",
    "    def apply_raise(self):\n",
    "        self.pay = int(self.pay * raise_amount)  #2 클래스 변수 사용\n",
    "\n",
    "emp_1 = Employee('Sanghee', 'Lee', 50000)\n",
    "emp_2 = Employee('Minjung', 'Kim', 60000)\n",
    "\n",
    "print(emp_1.pay)  # 기존 연봉\n",
    "emp_1.apply_raise()  # 인상률 적용\n",
    "print(emp_1.pay)  # 오른 연봉\n",
    "\n",
    "# 'raise_amount'는 정의되지 않은 이름이라고 네임에러가 떴습니다. \n",
    "# 클래스 변수의 클래스 네임스페이스에 저장되어 있으니 클래스를 통해서 엑세스해야 하는거죠."
   ]
  },
  {
   "cell_type": "code",
   "execution_count": 3,
   "metadata": {
    "ExecuteTime": {
     "end_time": "2020-03-12T06:14:45.237179Z",
     "start_time": "2020-03-12T06:14:45.230179Z"
    }
   },
   "outputs": [
    {
     "name": "stdout",
     "output_type": "stream",
     "text": [
      "50000\n",
      "55000\n"
     ]
    }
   ],
   "source": [
    "class Employee(object):\n",
    "    \n",
    "    raise_amount = 1.1  #1 클래스 변수 정의\n",
    "    \n",
    "    def __init__(self, first, last, pay):\n",
    "        self.first = first\n",
    "        self.last = last\n",
    "        self.pay = pay\n",
    "        self.email = first.lower() + '.' + last.lower() + '@schoolofweb.net'\n",
    "        \n",
    "    def full_name(self):\n",
    "        return '{} {}'.format(self.first, self.last)\n",
    "    \n",
    "    def apply_raise(self):\n",
    "        self.pay = int(self.pay * Employee.raise_amount)  #2 클래스 변수 사용\n",
    "\n",
    "emp_1 = Employee('Sanghee', 'Lee', 50000)\n",
    "emp_2 = Employee('Minjung', 'Kim', 60000)\n",
    "\n",
    "print(emp_1.pay)  # 기존 연봉\n",
    "emp_1.apply_raise()  # 인상률 적용\n",
    "print(emp_1.pay)  # 오른 연봉"
   ]
  },
  {
   "cell_type": "code",
   "execution_count": 4,
   "metadata": {
    "ExecuteTime": {
     "end_time": "2020-03-12T06:16:04.004490Z",
     "start_time": "2020-03-12T06:16:03.997499Z"
    }
   },
   "outputs": [
    {
     "name": "stdout",
     "output_type": "stream",
     "text": [
      "50000\n",
      "55000\n"
     ]
    }
   ],
   "source": [
    "# Employee\" 대신에 인스턴스인 \"self\"를 통해서도 \"raise_amount\"에 엑세스가 가능할까요?\n",
    "\n",
    "class Employee(object):\n",
    "    \n",
    "    raise_amount = 1.1  #1 클래스 변수 정의\n",
    "    \n",
    "    def __init__(self, first, last, pay):\n",
    "        self.first = first\n",
    "        self.last = last\n",
    "        self.pay = pay\n",
    "        self.email = first.lower() + '.' + last.lower() + '@schoolofweb.net'\n",
    "        \n",
    "    def full_name(self):\n",
    "        return '{} {}'.format(self.first, self.last)\n",
    "    \n",
    "    def apply_raise(self):\n",
    "        self.pay = int(self.pay * self.raise_amount)  #2 클래스 변수 사용\n",
    "\n",
    "emp_1 = Employee('Sanghee', 'Lee', 50000)\n",
    "emp_2 = Employee('Minjung', 'Kim', 60000)\n",
    "\n",
    "print(emp_1.pay)  # 기존 연봉\n",
    "emp_1.apply_raise()  # 인상률 적용\n",
    "print(emp_1.pay)  # 오른 연봉"
   ]
  },
  {
   "cell_type": "markdown",
   "metadata": {
    "ExecuteTime": {
     "end_time": "2020-03-12T06:17:12.379324Z",
     "start_time": "2020-03-12T06:17:12.340788Z"
    }
   },
   "source": [
    "![title](img/namespace.PNG)\n",
    "- 이 네임스페이스는 오브젝트의 이름들을 나눠서 관리하는데, 이름을 찾을때 \"인스턴스 네임스페이스\" -> \"클래스 네임스페이스\" -> \"수퍼 클래스 네임스페이스\"의 순서로 찾아갑니다. 하지만 반대로는 찾지 않습니다. 즉, 자식이 부모의 네임스페이스는 참조 할 수 있는데, 부모가 자식의 네임스페이스를 참조할 수는 없다는 겁니다. 위의 코드와 같이 \"self.raise_amount\"를 사용하면 파이썬은 처음엔 인스턴스 네임스페이스에서 \"raise_amount\"라는 이름을 찾고 없으면 클래스 네임스페이스에서 찾는 것입니다."
   ]
  },
  {
   "cell_type": "code",
   "execution_count": 10,
   "metadata": {
    "ExecuteTime": {
     "end_time": "2020-03-12T06:23:15.257959Z",
     "start_time": "2020-03-12T06:23:15.250867Z"
    }
   },
   "outputs": [
    {
     "name": "stdout",
     "output_type": "stream",
     "text": [
      "{'first': 'Sanghee', 'last': 'Lee', 'pay': 50000, 'email': 'sanghee.lee@schoolofweb.net'}\n",
      "----------------------------------------------------------------------------------------------------\n",
      "{'__module__': '__main__', 'raise_amount': 1.1, '__init__': <function Employee.__init__ at 0x000002A3F9655B88>, 'full_name': <function Employee.full_name at 0x000002A3F9655AF8>, 'apply_raise': <function Employee.apply_raise at 0x000002A3F9655678>, '__dict__': <attribute '__dict__' of 'Employee' objects>, '__weakref__': <attribute '__weakref__' of 'Employee' objects>, '__doc__': None}\n"
     ]
    }
   ],
   "source": [
    "class Employee(object):\n",
    "    \n",
    "    raise_amount = 1.1\n",
    "    \n",
    "    def __init__(self, first, last, pay):\n",
    "        self.first = first\n",
    "        self.last = last\n",
    "        self.pay = pay\n",
    "        self.email = first.lower() + '.' + last.lower() + '@schoolofweb.net'\n",
    "        \n",
    "    def full_name(self):\n",
    "        return '{} {}'.format(self.first, self.last)\n",
    "    \n",
    "    def apply_raise(self):\n",
    "        self.pay = int(self.pay * self.raise_amount)\n",
    "\n",
    "emp_1 = Employee('Sanghee', 'Lee', 50000)\n",
    "emp_2 = Employee('Minjung', 'Kim', 60000)\n",
    "\n",
    "print(emp_1.__dict__)  # 인스턴스의 네임스페이스 참조\n",
    "print('-'*100)\n",
    "print(Employee.__dict__)  # 클래스의 네임스페이스 참조\n",
    "\n",
    "# 아래 결과를 보시면 아시겠지만 emp_1 인스턴스의 네임스페이스에는 'raise_amount'가 없고, \n",
    "# Employee 클래스 오브젝트의 네임스페이스에만 존재하고 있는 것을 볼 수 있습니다.\n",
    "# 아래의 예제를 보시면 조금 더 이해가 되실겁니다."
   ]
  },
  {
   "cell_type": "code",
   "execution_count": 12,
   "metadata": {
    "ExecuteTime": {
     "end_time": "2020-03-12T06:28:34.330825Z",
     "start_time": "2020-03-12T06:28:34.322929Z"
    }
   },
   "outputs": [
    {
     "name": "stdout",
     "output_type": "stream",
     "text": [
      "인스턴스 네임스페이스에 있는 변수입니다.\n",
      "클래스 네임스페이스에 있는 변수입니다.\n",
      "수퍼 네임스페이스에 있는 변수입니다.\n",
      "클래스 네임스페이스에 있는 변수입니다.\n",
      "수퍼 네임스페이스에 있는 변수입니다.\n",
      "수퍼 네임스페이스에 있는 변수입니다.\n",
      "------------------------------\n",
      "class_var를 찾을 수가 없습니다...\n",
      "instance_var를 찾을 수가 없습니다...\n"
     ]
    }
   ],
   "source": [
    "class SuperClass(object):\n",
    "    super_var = '수퍼 네임스페이스에 있는 변수입니다.'\n",
    "\n",
    "class MyClass(SuperClass):\n",
    "    class_var = '클래스 네임스페이스에 있는 변수입니다.'\n",
    "    \n",
    "    def __init__(self):\n",
    "        self.instance_var = '인스턴스 네임스페이스에 있는 변수입니다.'\n",
    "    \n",
    "\n",
    "my_instance = MyClass()\n",
    "\n",
    "# 엑세스 가능한 경우\n",
    "print(my_instance.instance_var)\n",
    "print(my_instance.class_var)\n",
    "print(my_instance.super_var)\n",
    "print(MyClass.class_var)\n",
    "print(MyClass.super_var)\n",
    "print(SuperClass.super_var)\n",
    "print('-'*30)\n",
    "\n",
    "# 엑세스 불가능한 경우\n",
    "try:\n",
    "    print(SuperClass.class_var)\n",
    "except:\n",
    "    print('class_var를 찾을 수가 없습니다...')\n",
    "    \n",
    "try:\n",
    "    print(MyClass.instance_var)\n",
    "except:\n",
    "    print('instance_var를 찾을 수가 없습니다...')"
   ]
  },
  {
   "cell_type": "markdown",
   "metadata": {},
   "source": [
    "- 이제 다시 처음 예제로 돌아가 매년 똑같은 인상률을 모든 직원에게 적용하던 회사의 정책이 조금 바뀌었습니다.\n",
    "올해의 우수사원 인 'Sanghee lee' 에게만 특별 인상률인 20%를 적용 하겠다고 합니다.\n",
    "- 클래스 변수와 인스턴스 변수를 둘다 사용해 보겠습니다."
   ]
  },
  {
   "cell_type": "code",
   "execution_count": 13,
   "metadata": {
    "ExecuteTime": {
     "end_time": "2020-03-12T06:32:50.967078Z",
     "start_time": "2020-03-12T06:32:50.957074Z"
    }
   },
   "outputs": [
    {
     "name": "stdout",
     "output_type": "stream",
     "text": [
      "# emp_1 연봉 20% 인상\n",
      "50000\n",
      "60000\n",
      "# emp_2 연봉 10% 인상\n",
      "60000\n",
      "66000\n"
     ]
    }
   ],
   "source": [
    "class Employee(object):\n",
    "    \n",
    "    raise_amount = 1.1  # 클래스 변수를 사용하여 모든 직원에 적용\n",
    "    \n",
    "    def __init__(self, first, last, pay):\n",
    "        self.first = first\n",
    "        self.last = last\n",
    "        self.pay = pay\n",
    "        self.email = first.lower() + '.' + last.lower() + '@schoolofweb.net'\n",
    "        \n",
    "    def full_name(self):\n",
    "        return '{} {}'.format(self.first, self.last)\n",
    "    \n",
    "    def apply_raise(self):\n",
    "        self.pay = int(self.pay * self.raise_amount)  #1 인스턴스 변수부터 참조를 합니다.\n",
    "\n",
    "emp_1 = Employee('Sanghee', 'Lee', 50000) \n",
    "emp_2 = Employee('Minjung', 'Kim', 60000)\n",
    "\n",
    "emp_1.raise_amount = 1.2  # 인스턴스 변수를 사용하여 특별 인상률 적용\n",
    "\n",
    "print('# emp_1 연봉 20% 인상' )\n",
    "print(emp_1.pay)\n",
    "emp_1.apply_raise()\n",
    "print(emp_1.pay)\n",
    "print('# emp_2 연봉 10% 인상')\n",
    "print(emp_2.pay)\n",
    "emp_2.apply_raise()\n",
    "print(emp_2.pay)"
   ]
  },
  {
   "cell_type": "markdown",
   "metadata": {},
   "source": [
    "- 이번에는 다른 클래스 변수를 사용하기 좋은 예 입니다.( 직원 수 관리 )"
   ]
  },
  {
   "cell_type": "code",
   "execution_count": 15,
   "metadata": {
    "ExecuteTime": {
     "end_time": "2020-03-12T06:37:37.351048Z",
     "start_time": "2020-03-12T06:37:37.341554Z"
    }
   },
   "outputs": [
    {
     "name": "stdout",
     "output_type": "stream",
     "text": [
      "0\n",
      "2\n",
      "0\n"
     ]
    }
   ],
   "source": [
    "class Employee(object):\n",
    "    \n",
    "    raise_amount = 1.1\n",
    "    num_of_emps = 0  #1 클래스 변수 정의\n",
    "    \n",
    "    def __init__(self, first, last, pay):\n",
    "        self.first = first\n",
    "        self.last = last\n",
    "        self.pay = pay\n",
    "        self.email = first.lower() + '.' + last.lower() + '@schoolofweb.net'\n",
    "        \n",
    "        Employee.num_of_emps += 1  #2 인스턴스가 생성될 때마다 1씩 증가\n",
    "\n",
    "    def __del__(self):\n",
    "        Employee.num_of_emps -= 1  #3 인스턴스가 제거될 때마다 1씩 감소\n",
    "        \n",
    "    def full_name(self):\n",
    "        return '{} {}'.format(self.first, self.last)\n",
    "    \n",
    "    def apply_raise(self):\n",
    "        self.pay = int(self.pay * self.raise_amount)  #1 인스턴스 변수부터 참조를 합니다.\n",
    "\n",
    "print(Employee.num_of_emps)  # 처음 직원 수\n",
    "emp_1 = Employee('Sanghee', 'Lee', 50000)  # 직원 1명 입사\n",
    "emp_2 = Employee('Minjung', 'Kim', 60000)  # 직원 1명 입사\n",
    "print(Employee.num_of_emps)  # 직원 수 확인\n",
    "\n",
    "del emp_1  # 직원 1명 퇴사\n",
    "del emp_2  # 직원 1명 퇴사\n",
    "print(Employee.num_of_emps)  # 직원 수 확인"
   ]
  },
  {
   "cell_type": "markdown",
   "metadata": {},
   "source": [
    "### 클래스 메소드와 스태틱 메소드"
   ]
  },
  {
   "cell_type": "code",
   "execution_count": 16,
   "metadata": {
    "ExecuteTime": {
     "end_time": "2020-03-12T06:41:06.658796Z",
     "start_time": "2020-03-12T06:41:06.650676Z"
    }
   },
   "outputs": [
    {
     "name": "stdout",
     "output_type": "stream",
     "text": [
      "현재 \"Sanghee Lee\"의 연봉은 \"50000\"입니다.\n",
      "현재 \"Minjung Kim\"의 연봉은 \"60000\"입니다.\n",
      "현재 \"Sanghee Lee\"의 연봉은 \"55000\"입니다.\n",
      "현재 \"Minjung Kim\"의 연봉은 \"66000\"입니다.\n"
     ]
    }
   ],
   "source": [
    "class Employee(object):\n",
    "    \n",
    "    raise_amount = 1.1  #1 연봉 인상율 클래스 변수\n",
    "    \n",
    "    def __init__(self, first, last, pay):\n",
    "        self.first = first\n",
    "        self.last = last\n",
    "        self.pay = pay\n",
    "        self.email = first.lower() + '.' + last.lower() + '@schoolofweb.net'\n",
    "    \n",
    "    def apply_raise(self):\n",
    "        self.pay = int(self.pay * self.raise_amount)\n",
    "        \n",
    "    def full_name(self):\n",
    "        return '{} {}'.format(self.first, self.last)\n",
    "        \n",
    "    def get_pay(self):\n",
    "        return '현재 \"{}\"의 연봉은 \"{}\"입니다.'.format(self.full_name(), self.pay)\n",
    "\n",
    "emp_1 = Employee('Sanghee', 'Lee', 50000)\n",
    "emp_2 = Employee('Minjung', 'Kim', 60000)\n",
    "\n",
    "# 연봉 인상 전\n",
    "print(emp_1.get_pay())\n",
    "print(emp_2.get_pay())\n",
    "\n",
    "# 연봉 인상\n",
    "emp_1.apply_raise()\n",
    "emp_2.apply_raise()\n",
    "\n",
    "# 연봉 인상 후\n",
    "print(emp_1.get_pay())\n",
    "print(emp_2.get_pay())"
   ]
  },
  {
   "cell_type": "markdown",
   "metadata": {},
   "source": [
    "- 위의 코드를 보시면 클래스 변수인 'raise_amount'를 정의하여 'apply_raise'인스턴스 메소드를 실행하여 각 직원의 연봉을 인상할때 모든 직원 인스턴스에게 같은 인상율이 적용되도록 하였습니다. 만약에 다음 해에 연봉 인상율을 변경해야 한다면 클래스 메소드를 사용하여 변경하는 것이 좋습니다. 물론 \"Employee.raise_amount = 1.2\"와 같이 직접 클래스 변수를 변경하는 방법도 있지만 데이터 검사나 다른 부가 기능등의 추가가 필요할때 클래스 메소드를 사용하면 아주 편리합니다. 아래의 코드를 보시죠."
   ]
  },
  {
   "cell_type": "code",
   "execution_count": 1,
   "metadata": {
    "ExecuteTime": {
     "end_time": "2020-03-12T06:44:35.267182Z",
     "start_time": "2020-03-12T06:44:21.872991Z"
    }
   },
   "outputs": [
    {
     "name": "stdout",
     "output_type": "stream",
     "text": [
      "현재 \"Sanghee Lee\"의 연봉은 \"50000\"입니다.\n",
      "현재 \"Minjung Kim\"의 연봉은 \"60000\"입니다.\n",
      "[경고] 인상율은 \"1\"보다 작을 수 없습니다.\n",
      "[입력] 인상율을 다시 입력하여 주십시오.\n",
      "=> 1.1\n",
      "인상율 \"1.1\"가 적용 되었습니다.\n",
      "현재 \"Sanghee Lee\"의 연봉은 \"55000\"입니다.\n",
      "현재 \"Minjung Kim\"의 연봉은 \"66000\"입니다.\n"
     ]
    }
   ],
   "source": [
    "import sys\n",
    "\n",
    "class Employee(object):\n",
    "    \n",
    "    raise_amount = 1.1  # 연봉 인상율 클래스 변수\n",
    "    \n",
    "    def __init__(self, first, last, pay):\n",
    "        self.first = first\n",
    "        self.last = last\n",
    "        self.pay = pay\n",
    "    \n",
    "    def apply_raise(self):\n",
    "        self.pay = int(self.pay * self.raise_amount)\n",
    "        \n",
    "    def full_name(self):\n",
    "        return '{} {}'.format(self.first, self.last)\n",
    "        \n",
    "    def get_pay(self):\n",
    "        return '현재 \"{}\"의 연봉은 \"{}\"입니다.'.format(self.full_name(), self.pay)\n",
    "    \n",
    "    #1 클래스 메소드 데코레이터를 사용하여 클래스 메소드 정의\n",
    "    @classmethod\n",
    "    def change_raise_amount(cls, amount):\n",
    "        #2 인상율이 \"1\" 보다 작으면 재입력 요청\n",
    "        while amount < 1:\n",
    "            print('[경고] 인상율은 \"1\"보다 작을 수 없습니다.')\n",
    "            amount = input('[입력] 인상율을 다시 입력하여 주십시오.\\n=> ')\n",
    "            amount = float(amount)\n",
    "        cls.raise_amount = amount\n",
    "        print('인상율 \"{}\"가 적용 되었습니다.'.format(amount))\n",
    "\n",
    "emp_1 = Employee('Sanghee', 'Lee', 50000)\n",
    "emp_2 = Employee('Minjung', 'Kim', 60000)\n",
    "\n",
    "# 연봉 인상 전\n",
    "print(emp_1.get_pay())\n",
    "print(emp_2.get_pay())\n",
    "\n",
    "# 연봉 인상율 변경\n",
    "Employee.change_raise_amount(0.9)\n",
    "\n",
    "# 연봉 인상\n",
    "emp_1.apply_raise()\n",
    "emp_2.apply_raise()\n",
    "\n",
    "# 연봉 인상 후\n",
    "print(emp_1.get_pay())\n",
    "print(emp_2.get_pay())"
   ]
  },
  {
   "cell_type": "code",
   "execution_count": 8,
   "metadata": {},
   "outputs": [],
   "source": [
    "class Person(object):\n",
    "    def __init__(self, year, month, day, sex):\n",
    "        self.year = year\n",
    "        self.month = month\n",
    "        self.day = day\n",
    "        self.sex = sex\n",
    "        \n",
    "    def __str__(self): # repr과 구분해서 이해해야함 겉보기에는 비슷하게 작동함.\n",
    "        return '{}년 {}월 {}일생 {}입니다.'.format(self.year, self.month, self.day, self.sex)"
   ]
  },
  {
   "cell_type": "code",
   "execution_count": 9,
   "metadata": {},
   "outputs": [
    {
     "name": "stdout",
     "output_type": "stream",
     "text": [
      "1990년 8월 29일생 남성입니다.\n"
     ]
    }
   ],
   "source": [
    "person_1 = Person(1990, 8, 29, '남성')\n",
    "print(person_1)"
   ]
  },
  {
   "cell_type": "markdown",
   "metadata": {},
   "source": [
    "- 그런데 경우에 따라 주민번호를 인자로 받아 인스턴스를 생성해야 한다면?"
   ]
  },
  {
   "cell_type": "code",
   "execution_count": 11,
   "metadata": {},
   "outputs": [],
   "source": [
    "class Person(object):\n",
    "    def __init__(self, year, month, day, sex):\n",
    "        self.year = year\n",
    "        self.month = month\n",
    "        self.day = day\n",
    "        self.sex = sex\n",
    "        \n",
    "    def __str__(self):\n",
    "        return '{}년 {}월 {}일생 {}입니다.'.format(self.year, self.month, self.day, self.sex)\n",
    "\n",
    "ssn_1 = '900829-1034356'\n",
    "ssn_2 = '051224-4061569'\n",
    "\n",
    "def ssn_parser(ssn):\n",
    "    front, back = ssn.split('-')\n",
    "    sex = back[0]\n",
    "    \n",
    "    if sex == '1' or sex == '2':\n",
    "        year = '19' + front[:2]\n",
    "    else:\n",
    "        year = '20' + front[:2]\n",
    "        \n",
    "    if (int(sex) % 2) == 0:\n",
    "        sex = '여성'\n",
    "    else:\n",
    "        sex = '남성'\n",
    "        \n",
    "    month = front[2:4]\n",
    "    day = front[4:6]\n",
    "    \n",
    "    return year, month, day, sex"
   ]
  },
  {
   "cell_type": "code",
   "execution_count": 12,
   "metadata": {},
   "outputs": [
    {
     "name": "stdout",
     "output_type": "stream",
     "text": [
      "1990년 08월 29일생 남성입니다.\n",
      "2005년 12월 24일생 여성입니다.\n"
     ]
    }
   ],
   "source": [
    "person_1 = Person(*ssn_parser(ssn_1))\n",
    "print(person_1)\n",
    "person_2 = Person(*ssn_parser(ssn_2))\n",
    "print(person_2)"
   ]
  },
  {
   "cell_type": "markdown",
   "metadata": {},
   "source": [
    "- 위와 같은 방법으로 ssn_parser 함수를 이용하여 주민등록 번호를 분석후에 튜플을 클래스 생성자 인자로 전달해도 되지만, 이것보다 더좋은게 클래스 메소드로 대체 생성자를 만드는 것입니다. 아래는 예시입니다."
   ]
  },
  {
   "cell_type": "code",
   "execution_count": 14,
   "metadata": {},
   "outputs": [
    {
     "name": "stdout",
     "output_type": "stream",
     "text": [
      "1990년 08월 29일생 남성입니다.\n",
      "2005년 12월 24일생 여성입니다.\n"
     ]
    }
   ],
   "source": [
    "class Person(object):\n",
    "    def __init__(self, year, month, day, sex):\n",
    "        self.year = year\n",
    "        self.month = month\n",
    "        self.day = day\n",
    "        self.sex = sex\n",
    "        \n",
    "    def __str__(self):\n",
    "        return '{}년 {}월 {}일생 {}입니다.'.format(self.year, self.month, self.day, self.sex)\n",
    "    \n",
    "    @classmethod\n",
    "    def ssn_constructor(cls, ssn):\n",
    "        front, back = ssn.split('-')\n",
    "        sex = back[0]\n",
    "        \n",
    "        if sex == '1' or sex == '2':\n",
    "            year = '19' + front[:2]\n",
    "        else:\n",
    "            year = '20' + front[:2]\n",
    "            \n",
    "        if (int(sex) % 2) == 0:\n",
    "            sex = '여성'\n",
    "        else:\n",
    "            sex = '남성'\n",
    "            \n",
    "        month = front[2:4]\n",
    "        day = front[4:6]\n",
    "        \n",
    "        return cls(year, month, day, sex)\n",
    "    \n",
    "ssn_1 = '900829-1034356'\n",
    "ssn_2 = '051224-4061569'\n",
    "\n",
    "person_1 = Person.ssn_constructor(ssn_1)\n",
    "print(person_1)\n",
    "\n",
    "person_2 = Person.ssn_constructor(ssn_2)\n",
    "print(person_2)\n",
    "# 클래스 밖에서 함수를 사용하였때와 결과는 같지만 \n",
    "# 함수가 클래스 안에 메소드로 정의되어 조금 더 세련된 코드가 된것을 볼 수 있습니다."
   ]
  },
  {
   "cell_type": "markdown",
   "metadata": {},
   "source": [
    "- 이번에는 스태틱 메소드의 사용방법에 대해서 알아보도록 하겠습니다.\n",
    "- 인스턴스 메소드, 클래스 메소드, 스태틱 메소드 <--  이 세 가지 메소드는 모두 클래스 안에서 정의 됩니다.\n",
    "-  인스턴스 메소드는 인스턴스를 통해서 호출이 되고, 첫 번째 인자로 인스턴스 자신을 자동으로 전달합니다. 관습적으로 이 인수를 'self'라고 칭합니다. 클래스 메소드는 클래스를 통해서 호출이 되고 \"@classmethod\"라는 데코레이터로 정의합니다. 첫 번째 인자로는 클래스 자신이 자동으로 전달되고 이 인수를 관습적으로 'cls'라고 칭합니다. 스태틱 메소드는 앞서 설명한 두 메소드와는 틀리게 인스턴스나 클래스를 첫 번째 인자로 받지 않습니다.\n",
    "-  하지만 클래스와 연관성이 있는 함수를 클래스 안에 정의하여 클래스나 인스턴스를 통해서 호출하여 조금 편하게 쓸 수가 있는 것 입니다. 밑의 예를 보시죠."
   ]
  },
  {
   "cell_type": "code",
   "execution_count": 24,
   "metadata": {},
   "outputs": [
    {
     "name": "stdout",
     "output_type": "stream",
     "text": [
      "1990년 08월 29일생 남성입니다.\n",
      "2005년 12월 24일생 여성입니다.\n",
      "False\n",
      "False\n"
     ]
    }
   ],
   "source": [
    "# help\n",
    "class Person(object):\n",
    "    \n",
    "    my_class_var = 'sanghee'\n",
    "    \n",
    "    def __init__(self, year, month, day, sex):\n",
    "        self.year = year\n",
    "        self.month = month\n",
    "        self.day = day\n",
    "        self.sex = sex\n",
    "        \n",
    "    def __str__(self):\n",
    "        return '{}년 {}월 {}일생 {}입니다.'.format(self.year, self.month, self.day, self.sex)\n",
    "    \n",
    "    @classmethod\n",
    "    def ssn_constructor(cls, ssn):\n",
    "        front, back = ssn.split('-')\n",
    "        sex = back[0]\n",
    "        \n",
    "        if sex == '1' or sex == '2':\n",
    "            year = '19' + front[:2]\n",
    "        else:\n",
    "            year = '20' + front[:2]\n",
    "            \n",
    "        if (int(sex) % 2) == 0:\n",
    "            sex = '여성'\n",
    "        else:\n",
    "            sex = '남성'\n",
    "            \n",
    "        month = front[2:4]\n",
    "        day = front[4:6]\n",
    "        \n",
    "        return cls(year, month, day, sex)\n",
    "    \n",
    "    @staticmethod\n",
    "    def is_work_day(day):\n",
    "        # weekday() 함수의 리턴값은\n",
    "        # 월: 0, 화: 1, 수: 2, 목: 3, 금: 4, 토: 5, 일: 6\n",
    "        if day.weekday() == 5 or day.weekday() == 6:\n",
    "            return False\n",
    "        return True\n",
    "\n",
    "ssn_1 = '900829-1034356'\n",
    "ssn_2 = '051224-4061569'\n",
    "\n",
    "person_1 = Person.ssn_constructor(ssn_1)\n",
    "print(person_1)\n",
    "\n",
    "person_2 = Person.ssn_constructor(ssn_2)\n",
    "print(person_2)\n",
    "\n",
    "import datetime\n",
    "# 일요일 날짜 오브젝트 생성\n",
    "my_date = datetime.date(2016, 10, 9)\n",
    "\n",
    "# 클래스를 통하여 스태틱 메소드 호출\n",
    "print(Person.is_work_day(my_date))\n",
    "# 인스턴스를 통하여 스태틱 메소드 호출\n",
    "print(person_1.is_work_day(my_date))"
   ]
  },
  {
   "cell_type": "markdown",
   "metadata": {},
   "source": [
    "이전 강좌에서 설명을 드렸듯이 클래스를 사용하는 이유는 네임스페이스를 이용하여 효율적으로 데이터를 관리하고, 같은 코드의 반복을 없애고자 하는 DRY(Don't Repeat Yourself) 개념이 담겨 있습니다. 상속 또한 한 번 정의한 데이터 타입을 필요에 따라서 수정을 하고 다시 재활용해서 반복되는 코드를 줄이고자 하는 목적을 가지고 있습니다. 예제를 통하여 게임 케릭터의 클래스를 만들면서 설명을 하겠습니다. 만들고자 하는 케릭터는 다음과 같습니다.\n",
    "- 클래스: Hero, 랭크: 영웅, 라이프: 300, 사이즈: big, 설명: 상위 랭크의 케릭터로써 하위 랭크의 케릭터를 소환합니다.\n",
    "- 클래스: Goblin, 랭크: 병사, 라이프: 100, 사이즈: small, 설명: 하위 랭크의 케릭터로써 상위 랭크의 케릭터에 의해 소환됩니다."
   ]
  },
  {
   "cell_type": "code",
   "execution_count": 26,
   "metadata": {},
   "outputs": [
    {
     "name": "stdout",
     "output_type": "stream",
     "text": [
      "이름: Goblin\n",
      "등급: 병사\n",
      "사이즈: Small\n",
      "라이프: 100\n"
     ]
    }
   ],
   "source": [
    "class Unit(object):\n",
    "    def __init__(self, rank, size, life):\n",
    "        self.name = self.__class__.__name__\n",
    "        self.rank = rank\n",
    "        self.size = size\n",
    "        self.life = life\n",
    "        \n",
    "    def show_status(self):\n",
    "        print('이름: {}'.format(self.name))\n",
    "        print('등급: {}'.format(self.rank))\n",
    "        print('사이즈: {}'.format(self.size))\n",
    "        print('라이프: {}'.format(self.life))\n",
    "        \n",
    "\n",
    "class Goblin(Unit):\n",
    "    pass\n",
    "\n",
    "goblin_1 = Goblin('병사', 'Small', 100)\n",
    "\n",
    "goblin_1.show_status()"
   ]
  },
  {
   "cell_type": "markdown",
   "metadata": {},
   "source": [
    "Unit 클래스의 하위 클래스인 Goblin 클래스는 어떠한 메소드나 속성을 정의하지 않았는데도 Unit 클래스안에 정의한 show_status 메소드를 상속받아 사용할 수 있었습니다. 그렇다면 Goblin 클래스가 자신의 네임스페이스 안에 show_status 메소드를 가지고 있을까요? 밑의 코드를 보시죠."
   ]
  },
  {
   "cell_type": "code",
   "execution_count": 29,
   "metadata": {},
   "outputs": [
    {
     "name": "stdout",
     "output_type": "stream",
     "text": [
      "{'__module__': '__main__', '__init__': <function Unit.__init__ at 0x000001AAD784EB70>, 'show_status': <function Unit.show_status at 0x000001AAD784E950>, '__dict__': <attribute '__dict__' of 'Unit' objects>, '__weakref__': <attribute '__weakref__' of 'Unit' objects>, '__doc__': None}\n",
      "------------------------------\n",
      "{'__module__': '__main__', '__doc__': None}\n"
     ]
    }
   ],
   "source": [
    "class Unit(object):\n",
    "    def __init__(self, rank, size, life):\n",
    "        self.name = self.__class__.__name__\n",
    "        self.rank = rank\n",
    "        self.size = size\n",
    "        self.life = life\n",
    "        \n",
    "    def show_status(self):\n",
    "        print('이름: {}'.format(self.name))\n",
    "        print('등급: {}'.format(self.rank))\n",
    "        print('사이즈: {}'.format(self.size))\n",
    "        print('라이프: {}'.format(self.life))\n",
    "        \n",
    "\n",
    "class Goblin(Unit):\n",
    "    pass\n",
    "\n",
    "goblin_1 = Goblin('병사', 'Small', 100)\n",
    "\n",
    "print(Unit.__dict__)\n",
    "print('-'*30)\n",
    "print(Goblin.__dict__)"
   ]
  },
  {
   "cell_type": "code",
   "execution_count": 30,
   "metadata": {},
   "outputs": [
    {
     "name": "stdout",
     "output_type": "stream",
     "text": [
      "Help on class Goblin in module __main__:\n",
      "\n",
      "class Goblin(Unit)\n",
      " |  Goblin(rank, size, life)\n",
      " |  \n",
      " |  Method resolution order:\n",
      " |      Goblin\n",
      " |      Unit\n",
      " |      builtins.object\n",
      " |  \n",
      " |  Methods inherited from Unit:\n",
      " |  \n",
      " |  __init__(self, rank, size, life)\n",
      " |      Initialize self.  See help(type(self)) for accurate signature.\n",
      " |  \n",
      " |  show_status(self)\n",
      " |  \n",
      " |  ----------------------------------------------------------------------\n",
      " |  Data descriptors inherited from Unit:\n",
      " |  \n",
      " |  __dict__\n",
      " |      dictionary for instance variables (if defined)\n",
      " |  \n",
      " |  __weakref__\n",
      " |      list of weak references to the object (if defined)\n",
      "\n",
      "None\n"
     ]
    }
   ],
   "source": [
    "print(help(Goblin))"
   ]
  },
  {
   "cell_type": "markdown",
   "metadata": {},
   "source": [
    "### | Method resolution order: | Goblin | Unit | builtin.object"
   ]
  },
  {
   "cell_type": "markdown",
   "metadata": {},
   "source": [
    "위의 설명은 Goblin 클래스가 이름을 찾는 순서를 보여주고 있습니다. 가장 먼저 자신의 네임 스페이스에서 찾고, 그 다음에 부모 클래스인 Unit 클래스의 네임 스페이스를 뒤지고, 마지막으로 최상 클래스인 내장 오브젝트 클래스의 네임 스페이스를 참조하는군요. 즉, 인스턴스 생성시에 무조건 호출되어야 하는 init() 메소드도 자신의 네임스페이스에서 찾지 못 하면 부모 클래스에서 참조를 하는 것입니다."
   ]
  },
  {
   "cell_type": "markdown",
   "metadata": {},
   "source": [
    "### | Methods inherited from Unit: |\n",
    "### | init(self, rank, size, life) |\n",
    "### | show_status(self)"
   ]
  },
  {
   "cell_type": "markdown",
   "metadata": {},
   "source": [
    "위의 설명을 보시면 init()과 show_status() 메소드를 Unit 클래스로 부터 상속 받았다고 보여주네요. 결국 자기의 네임 스페이스 안에는 가지고 있지 않지만 상위 클래스의 네임 스페이스를 참조하는 것이지요.\n",
    "\n",
    "dir() 함수를 이용하여 Goblin 클래스가 참조 할 수 있는 정보를 확인해 보죠.\n"
   ]
  },
  {
   "cell_type": "code",
   "execution_count": 31,
   "metadata": {},
   "outputs": [
    {
     "name": "stdout",
     "output_type": "stream",
     "text": [
      "['__class__', '__delattr__', '__dict__', '__dir__', '__doc__', '__eq__', '__format__', '__ge__', '__getattribute__', '__gt__', '__hash__', '__init__', '__init_subclass__', '__le__', '__lt__', '__module__', '__ne__', '__new__', '__reduce__', '__reduce_ex__', '__repr__', '__setattr__', '__sizeof__', '__str__', '__subclasshook__', '__weakref__', 'show_status']\n"
     ]
    }
   ],
   "source": [
    "print(dir(Goblin)) # 고블린 클래스가 참조 할 수 있는 정보"
   ]
  },
  {
   "cell_type": "markdown",
   "metadata": {},
   "source": [
    "### 이번에는 Goblin 클래스에 새로운 속성인 \"공격 타입\"을 추가하고자 합니다."
   ]
  },
  {
   "cell_type": "code",
   "execution_count": 32,
   "metadata": {},
   "outputs": [
    {
     "name": "stdout",
     "output_type": "stream",
     "text": [
      "이름: Goblin\n",
      "등급: 병사\n",
      "사이즈: Small\n",
      "라이프: 100\n",
      "공격 타입: 근접 공격\n"
     ]
    }
   ],
   "source": [
    "class Unit(object):\n",
    "    def __init__(self, rank, size, life):\n",
    "        self.name = self.__class__.__name__\n",
    "        self.rank = rank\n",
    "        self.size = size\n",
    "        self.life = life\n",
    "        \n",
    "    def show_status(self):\n",
    "        print('이름: {}'.format(self.name))\n",
    "        print('등급: {}'.format(self.rank))\n",
    "        print('사이즈: {}'.format(self.size))\n",
    "        print('라이프: {}'.format(self.life))\n",
    "        \n",
    "\n",
    "class Goblin(Unit):\n",
    "    def __init__(self, rank, size, life, attack_type):\n",
    "        self.name = self.__class__.__name__\n",
    "        self.rank = rank\n",
    "        self.size = size\n",
    "        self.life = life\n",
    "        self.attack_type = attack_type\n",
    "        \n",
    "    def show_status(self):\n",
    "        print('이름: {}'.format(self.name))\n",
    "        print('등급: {}'.format(self.rank))\n",
    "        print('사이즈: {}'.format(self.size))\n",
    "        print('라이프: {}'.format(self.life))\n",
    "        print('공격 타입: {}'.format(self.attack_type))\n",
    "        \n",
    "goblin_1 = Goblin('병사', 'Small', 100, '근접 공격')\n",
    "\n",
    "goblin_1.show_status()"
   ]
  },
  {
   "cell_type": "markdown",
   "metadata": {},
   "source": [
    "자신의 클래스 안에 init() 메소드와 show_status() 메소드를 다시 정의하여 원하는 속성과 기능을 추가하였으나, Unit 클래스에서 정의한 모든 코드를 반복한 것을 알 수 있습니다. 위의 코드같이 코딩을 하면 클래스를 사용하는 의미가 전혀 없습니다. 아주 나쁜 코딩의 좋은 예라고 할 수 있습니다. ^^; 이렇게 상위 클래스의 메소드를 자신의 클래스 안에 다시 정의하는 것을 메소드 오버라이드라고 하며, 이런 경우에는 super() 함수를 사용하여 이미 부모 클래스에서 정의된 메소드를 호출하여 같은 코드를 반복하지 않도록 합니다. super() 함수를 사용하여 중복된 코드를 줄여 보겠습니다."
   ]
  },
  {
   "cell_type": "code",
   "execution_count": 33,
   "metadata": {},
   "outputs": [
    {
     "name": "stdout",
     "output_type": "stream",
     "text": [
      "이름: Goblin\n",
      "등급: 병사\n",
      "사이즈: Small\n",
      "라이프: 100\n",
      "공격 타입: 근접 공격\n"
     ]
    }
   ],
   "source": [
    "class Unit(object):\n",
    "    def __init__(self, rank, size, life):\n",
    "        self.name = self.__class__.__name__\n",
    "        self.rank = rank\n",
    "        self.size = size\n",
    "        self.life = life\n",
    "        \n",
    "    def show_status(self):\n",
    "        print('이름: {}'.format(self.name))\n",
    "        print('등급: {}'.format(self.rank))\n",
    "        print('사이즈: {}'.format(self.size))\n",
    "        print('라이프: {}'.format(self.life))\n",
    "        \n",
    "\n",
    "class Goblin(Unit):\n",
    "    def __init__(self, rank, size, life, attack_type):\n",
    "        super(Goblin, self).__init__(rank, size, life)\n",
    "        self.attack_type = attack_type\n",
    "        \n",
    "    def show_status(self):\n",
    "        super(Goblin, self).show_status()\n",
    "        print('공격 타입: {}'.format(self.attack_type))\n",
    "        \n",
    "goblin_1 = Goblin('병사', 'Small', 100, '근접 공격')\n",
    "\n",
    "goblin_1.show_status()"
   ]
  },
  {
   "cell_type": "markdown",
   "metadata": {},
   "source": [
    "어떤가요? 코드가 아주 간단해지지 않았나요? 이것이 메소드 오버라이드(method override)입니다.\n",
    "\n",
    "고블린 클래스에 공격 메소드와 데미지 속성을 추가하겠습니다. 그리고 Goblin을 클래스를 상속받는 SphereGoblin 클래스를 만들고 sphere_type이라는 속성을 추가하겠습니다.\n"
   ]
  },
  {
   "cell_type": "code",
   "execution_count": 2,
   "metadata": {},
   "outputs": [
    {
     "name": "stdout",
     "output_type": "stream",
     "text": [
      "이름: SphereGoblin\n",
      "등급: 병사\n",
      "사이즈: Small\n",
      "라이프: 100\n",
      "공격 타입: 레인지 공격\n",
      "데미지: 10\n",
      "창 타입: 긴 창\n"
     ]
    }
   ],
   "source": [
    "class Unit(object):\n",
    "    def __init__(self, rank, size, life):\n",
    "        self.name = self.__class__.__name__\n",
    "        self.rank = rank\n",
    "        self.size = size\n",
    "        self.life = life\n",
    "        \n",
    "    def show_status(self):\n",
    "        print('이름: {}'.format(self.name))\n",
    "        print('등급: {}'.format(self.rank))\n",
    "        print('사이즈: {}'.format(self.size))\n",
    "        print('라이프: {}'.format(self.life))\n",
    "        \n",
    "\n",
    "class Goblin(Unit):\n",
    "    # damage 속성 추가\n",
    "    def __init__(self, rank, size, life, attack_type, damage):\n",
    "        super(Goblin, self).__init__(rank, size, life)\n",
    "        self.attack_type = attack_type\n",
    "        self.damage = damage\n",
    "        \n",
    "    def show_status(self):\n",
    "        super(Goblin, self).show_status()\n",
    "        print('공격 타입: {}'.format(self.attack_type))\n",
    "        # 오버라이드 메소드\n",
    "        print ('데미지: {}'.format(self.damage))\n",
    "        \n",
    "        \n",
    "    # 공격 메소드 추가\n",
    "    def attack(self):\n",
    "        print('[{}]이 공격합니다! 상대방 데미지({})'.format(self.name, self.damage))\n",
    "        \n",
    "\n",
    "class SphereGoblin(Goblin):\n",
    "    def __init__(self, rank, size, life, attack_type, damage, sphere_type):\n",
    "        super(SphereGoblin, self).__init__(rank, size, life, attack_type, damage)\n",
    "        self.sphere_type = sphere_type\n",
    "        \n",
    "    def show_status(self):\n",
    "        super(SphereGoblin, self).show_status()\n",
    "        print('창 타입: {}'.format(self.sphere_type))\n",
    "        \n",
    "\n",
    "sphere_goblin_1 = SphereGoblin('병사', 'Small', 100, '레인지 공격', 10, '긴 창')\n",
    "\n",
    "sphere_goblin_1.show_status()\n",
    "# 스피어 고블린 클래스에 super(SphereGoblin, self)부분에서\n",
    "# 가로안에 내용을 제거해도 정상적으로 돌아감."
   ]
  },
  {
   "cell_type": "markdown",
   "metadata": {},
   "source": [
    "SphereGoblin 클래스는 부모 클래스인 Goblin 클래스와 할아버지 클래스인 Unit 클래스에서 모든 속성과 메소드를 상속받은 것을 볼 수 있습니다.\n",
    "\n",
    "### 이번에는 Goblin 케릭터를 거느릴 Hero 클래스를 만들어 보겠습니다.\n"
   ]
  },
  {
   "cell_type": "code",
   "execution_count": 3,
   "metadata": {},
   "outputs": [
    {
     "name": "stdout",
     "output_type": "stream",
     "text": [
      "현재 영웅이 소유한 고블린은 3명, 창 고블린은 1명입니다.\n",
      "[Goblin]이 공격합니다! 상대방 데미지(15)\n",
      "[Goblin]이 공격합니다! 상대방 데미지(15)\n",
      "[SphereGoblin]이 공격합니다! 상대방 데미지(10)\n"
     ]
    }
   ],
   "source": [
    "class Unit(object):\n",
    "    def __init__(self, rank, size, life):\n",
    "        self.name = self.__class__.__name__\n",
    "        self.rank = rank\n",
    "        self.size = size\n",
    "        self.life = life\n",
    "        \n",
    "    def show_status(self):\n",
    "        print('이름: {}'.format(self.name))\n",
    "        print('등급: {}'.format(self.rank))\n",
    "        print('사이즈: {}'.format(self.size))\n",
    "        print('라이프: {}'.format(self.life))\n",
    "        \n",
    "\n",
    "class Goblin(Unit):\n",
    "    # damage 속성 추가\n",
    "    def __init__(self, rank, size, life, attack_type, damage):\n",
    "        super(Goblin, self).__init__(rank, size, life)\n",
    "        self.attack_type = attack_type\n",
    "        self.damage = damage\n",
    "        \n",
    "    def show_status(self):\n",
    "        super(Goblin, self).show_status()\n",
    "        print('공격 타입: {}'.format(self.attack_type))\n",
    "        # 오버라이드 메소드\n",
    "        print ('데미지: {}'.format(self.damage))\n",
    "        \n",
    "        \n",
    "    # 공격 메소드 추가\n",
    "    def attack(self):\n",
    "        print('[{}]이 공격합니다! 상대방 데미지({})'.format(self.name, self.damage))\n",
    "        \n",
    "\n",
    "class SphereGoblin(Goblin):\n",
    "    def __init__(self, rank, size, life, attack_type, damage, sphere_type):\n",
    "        super(SphereGoblin, self).__init__(rank, size, life, attack_type, damage)\n",
    "        self.sphere_type = sphere_type\n",
    "        \n",
    "    def show_status(self):\n",
    "        super(SphereGoblin, self).show_status()\n",
    "        print('창 타입: {}'.format(self.sphere_type))\n",
    "        \n",
    "        \n",
    "class Hero(Unit):\n",
    "    def __init__(self, rank, size, life, goblins=None):\n",
    "        super(Hero, self).__init__(rank, size, life)\n",
    "        if goblins is None:\n",
    "            self.goblins = []\n",
    "        else:\n",
    "            self.goblins = goblins\n",
    "            \n",
    "    def show_own_goblins(self):\n",
    "        num_of_goblins = len([x for x in self.goblins if isinstance(x, Goblin)])\n",
    "        num_of_sphere_goblins = len([x for x in self.goblins if isinstance(x, SphereGoblin)])\n",
    "        print('현재 영웅이 소유한 고블린은 {}명, 창 고블린은 {}명입니다.'.format(num_of_goblins, num_of_sphere_goblins))\n",
    "        \n",
    "    def make_goblins_attack(self):\n",
    "        for goblin in self.goblins:\n",
    "            goblin.attack()\n",
    "        \n",
    "\n",
    "# 고블린 오브젝트 생성\n",
    "goblin_1 = Goblin('병사', 'Small', 100, '근접 공격', 15)\n",
    "goblin_2 = Goblin('병사', 'Small', 100, '근접 공격', 15)\n",
    "sphere_goblin_1 = SphereGoblin('병사', 'Small', 100, '레인지 공격', 10, '긴 창')\n",
    "        \n",
    "# 영웅 오브젝트 생성 후, 고블린 오브젝트 할당       \n",
    "hero_1 = Hero('영웅', 'Big', 300, [goblin_1, goblin_2, sphere_goblin_1])\n",
    "hero_1.show_own_goblins()\n",
    "hero_1.make_goblins_attack()"
   ]
  },
  {
   "cell_type": "markdown",
   "metadata": {},
   "source": [
    "- 가장 상위 클래스인 Unit 클래스로 부터 상속을 받는 Hero 클래스를 만들고 __init__()를 오버라이딩했습니다. 그리고, 자신이 소유하고 있는 고블린의 수를 표시하는 메소드와 소유한 고블린이 공격을 하도록 하는 메소드도 만들어 봤습니다."
   ]
  },
  {
   "cell_type": "markdown",
   "metadata": {},
   "source": [
    "### 이번에는 고블린을 추가하고 없애는 메소드를 만들어 보겠습니다."
   ]
  },
  {
   "cell_type": "code",
   "execution_count": 4,
   "metadata": {},
   "outputs": [
    {
     "name": "stdout",
     "output_type": "stream",
     "text": [
      "# 새로운 고블린 추가 전\n",
      "현재 영웅이 소유한 고블린은 2명, 창 고블린은 1명입니다.\n",
      "[Goblin]이 공격합니다! 상대방 데미지(15)\n",
      "[Goblin]이 공격합니다! 상대방 데미지(15)\n",
      "[SphereGoblin]이 공격합니다! 상대방 데미지(10)\n",
      "\n",
      "# 새로운 고블린 추가 후\n",
      "현재 영웅이 소유한 고블린은 3명, 창 고블린은 2명입니다.\n",
      "[Goblin]이 공격합니다! 상대방 데미지(15)\n",
      "[Goblin]이 공격합니다! 상대방 데미지(15)\n",
      "[SphereGoblin]이 공격합니다! 상대방 데미지(10)\n",
      "[Goblin]이 공격합니다! 상대방 데미지(20)\n",
      "[SphereGoblin]이 공격합니다! 상대방 데미지(5)\n",
      "\n",
      "# 추가한 고블린 삭제 후\n",
      "현재 영웅이 소유한 고블린은 2명, 창 고블린은 1명입니다.\n",
      "[Goblin]이 공격합니다! 상대방 데미지(15)\n",
      "[Goblin]이 공격합니다! 상대방 데미지(15)\n",
      "[SphereGoblin]이 공격합니다! 상대방 데미지(10)\n"
     ]
    }
   ],
   "source": [
    "class Unit(object):\n",
    "    def __init__(self, rank, size, life):\n",
    "        self.name = self.__class__.__name__\n",
    "        self.rank = rank\n",
    "        self.size = size\n",
    "        self.life = life\n",
    "        \n",
    "    def show_status(self):\n",
    "        print('이름: {}'.format(self.name))\n",
    "        print('등급: {}'.format(self.rank))\n",
    "        print('사이즈: {}'.format(self.size))\n",
    "        print('라이프: {}'.format(self.life))\n",
    "        \n",
    "\n",
    "class Goblin(Unit):\n",
    "    # damage 속성 추가\n",
    "    def __init__(self, rank, size, life, attack_type, damage):\n",
    "        super(Goblin, self).__init__(rank, size, life)\n",
    "        self.attack_type = attack_type\n",
    "        self.damage = damage\n",
    "        \n",
    "    def show_status(self):\n",
    "        super(Goblin, self).show_status()\n",
    "        print('공격 타입: {}'.format(self.attack_type))\n",
    "        # 오버라이드 메소드\n",
    "        print ('데미지: {}'.format(self.damage))\n",
    "        \n",
    "        \n",
    "    # 공격 메소드 추가\n",
    "    def attack(self):\n",
    "        print('[{}]이 공격합니다! 상대방 데미지({})'.format(self.name, self.damage))\n",
    "        \n",
    "\n",
    "class SphereGoblin(Goblin):\n",
    "    def __init__(self, rank, size, life, attack_type, damage, sphere_type):\n",
    "        super(SphereGoblin, self).__init__(rank, size, life, attack_type, damage)\n",
    "        self.sphere_type = sphere_type\n",
    "        \n",
    "    def show_status(self):\n",
    "        super(SphereGoblin, self).show_status()\n",
    "        print('창 타입: {}'.format(self.sphere_type))\n",
    "        \n",
    "        \n",
    "class Hero(Unit):\n",
    "    def __init__(self, rank, size, life, goblins=None):\n",
    "        super(Hero, self).__init__(rank, size, life)\n",
    "        if goblins is None:\n",
    "            self.goblins = []\n",
    "        else:\n",
    "            self.goblins = goblins\n",
    "            \n",
    "    def show_own_goblins(self):\n",
    "        num_of_goblins = len([x for x in self.goblins if isinstance(x, Goblin)])\n",
    "        num_of_sphere_goblins = len([x for x in self.goblins if isinstance(x, SphereGoblin)])\n",
    "        print('현재 영웅이 소유한 고블린은 {}명, 창 고블린은 {}명입니다.'.format(\n",
    "                num_of_goblins - num_of_sphere_goblins, num_of_sphere_goblins\n",
    "            ))\n",
    "        \n",
    "    def make_goblins_attack(self):\n",
    "        for goblin in self.goblins:\n",
    "            goblin.attack()\n",
    "            \n",
    "    def add_goblins(self, new_goblins):\n",
    "        for goblin in new_goblins:\n",
    "            if goblin not in self.goblins:\n",
    "                self.goblins.append(goblin)\n",
    "            else:\n",
    "                print('이미 추가된 고블린입니다.')\n",
    "\n",
    "            \n",
    "    def remove_goblins(self, old_goblins):\n",
    "        for goblin in old_goblins:\n",
    "            try:\n",
    "                self.goblins.remove(goblin)\n",
    "            except:\n",
    "                print('{}을 소유하고 있지 않습니다.'.format(goblin))\n",
    "        \n",
    "\n",
    "# 고블린 오브젝트 생성\n",
    "goblin_1 = Goblin('병사', 'Small', 100, '근접 공격', 15)\n",
    "goblin_2 = Goblin('병사', 'Small', 100, '근접 공격', 15)\n",
    "sphere_goblin_1 = SphereGoblin('병사', 'Small', 100, '레인지 공격', 10, '긴 창')\n",
    "        \n",
    "# 영웅 오브젝트 생성 후, 고블린 오브젝트 할당       \n",
    "hero_1 = Hero('영웅', 'Big', 300, [goblin_1, goblin_2, sphere_goblin_1])\n",
    "\n",
    "# 새로운 고블린 생성\n",
    "goblin_3 = Goblin('병사', 'Small', 100, '근접 공격', 20)\n",
    "sphere_goblin_2 = SphereGoblin('병사', 'Small', 100, '레인지 공격', 5, '긴 창')\n",
    "\n",
    "print('# 새로운 고블린 추가 전')\n",
    "hero_1.show_own_goblins()\n",
    "hero_1.make_goblins_attack()\n",
    "\n",
    "# 새로운 고블린 추가\n",
    "hero_1.add_goblins([goblin_3, sphere_goblin_2])\n",
    "\n",
    "print('\\n# 새로운 고블린 추가 후')\n",
    "hero_1.show_own_goblins()\n",
    "hero_1.make_goblins_attack()\n",
    "\n",
    "# 추가한 고블린 삭제\n",
    "hero_1.remove_goblins([goblin_3, sphere_goblin_2])\n",
    "\n",
    "print('\\n# 추가한 고블린 삭제 후')\n",
    "hero_1.show_own_goblins()\n",
    "hero_1.make_goblins_attack()"
   ]
  },
  {
   "cell_type": "markdown",
   "metadata": {},
   "source": [
    "- 이미 추가된 고블린을 추가하고, 소유하지 않는 고블린을 지워서 에러 메세지를 발생시켜 보겠습니다.\n"
   ]
  },
  {
   "cell_type": "code",
   "execution_count": 5,
   "metadata": {},
   "outputs": [
    {
     "name": "stdout",
     "output_type": "stream",
     "text": [
      "# 새로운 고블린 추가 전\n",
      "현재 영웅이 소유한 고블린은 3명, 창 고블린은 1명입니다.\n",
      "[Goblin]이 공격합니다! 상대방 데미지(15)\n",
      "[Goblin]이 공격합니다! 상대방 데미지(15)\n",
      "[SphereGoblin]이 공격합니다! 상대방 데미지(10)\n",
      "\n",
      "# 새로운 고블린 추가 후\n",
      "현재 영웅이 소유한 고블린은 5명, 창 고블린은 2명입니다.\n",
      "[Goblin]이 공격합니다! 상대방 데미지(15)\n",
      "[Goblin]이 공격합니다! 상대방 데미지(15)\n",
      "[SphereGoblin]이 공격합니다! 상대방 데미지(10)\n",
      "[Goblin]이 공격합니다! 상대방 데미지(20)\n",
      "[SphereGoblin]이 공격합니다! 상대방 데미지(5)\n",
      "\n",
      "# 추가한 고블린 삭제 후\n",
      "현재 영웅이 소유한 고블린은 3명, 창 고블린은 1명입니다.\n",
      "[Goblin]이 공격합니다! 상대방 데미지(15)\n",
      "[Goblin]이 공격합니다! 상대방 데미지(15)\n",
      "[SphereGoblin]이 공격합니다! 상대방 데미지(10)\n",
      "\n",
      "# 에러 메세지 발생\n",
      "이미 추가된 고블린입니다.\n",
      "소유하고 있지 않은 고블린입니다.\n"
     ]
    }
   ],
   "source": [
    "class Unit(object):\n",
    "    def __init__(self, rank, size, life):\n",
    "        self.name = self.__class__.__name__\n",
    "        self.rank = rank\n",
    "        self.size = size\n",
    "        self.life = life\n",
    "        \n",
    "    def show_status(self):\n",
    "        print('이름: {}'.format(self.name))\n",
    "        print('등급: {}'.format(self.rank))\n",
    "        print('사이즈: {}'.format(self.size))\n",
    "        print('라이프: {}'.format(self.life))\n",
    "        \n",
    "\n",
    "class Goblin(Unit):\n",
    "    # damage 속성 추가\n",
    "    def __init__(self, rank, size, life, attack_type, damage):\n",
    "        super(Goblin, self).__init__(rank, size, life)\n",
    "        self.attack_type = attack_type\n",
    "        self.damage = damage\n",
    "        \n",
    "    def show_status(self):\n",
    "        super(Goblin, self).show_status()\n",
    "        print('공격 타입: {}'.format(self.attack_type))\n",
    "        # 오버라이드 메소드\n",
    "        print ('데미지: {}'.format(self.damage))\n",
    "        \n",
    "        \n",
    "    # 공격 메소드 추가\n",
    "    def attack(self):\n",
    "        print('[{}]이 공격합니다! 상대방 데미지({})'.format(self.name, self.damage))\n",
    "        \n",
    "\n",
    "class SphereGoblin(Goblin):\n",
    "    def __init__(self, rank, size, life, attack_type, damage, sphere_type):\n",
    "        super(SphereGoblin, self).__init__(rank, size, life, attack_type, damage)\n",
    "        self.sphere_type = sphere_type\n",
    "        \n",
    "    def show_status(self):\n",
    "        super(SphereGoblin, self).show_status()\n",
    "        print('창 타입: {}'.format(self.sphere_type))\n",
    "        \n",
    "        \n",
    "class Hero(Unit):\n",
    "    def __init__(self, rank, size, life, goblins=None):\n",
    "        super(Hero, self).__init__(rank, size, life)\n",
    "        if goblins is None:\n",
    "            self.goblins = []\n",
    "        else:\n",
    "            self.goblins = goblins\n",
    "            \n",
    "    def show_own_goblins(self):\n",
    "        num_of_goblins = len([x for x in self.goblins if isinstance(x, Goblin)])\n",
    "        num_of_sphere_goblins = len([x for x in self.goblins if isinstance(x, SphereGoblin)])\n",
    "        print('현재 영웅이 소유한 고블린은 {}명, 창 고블린은 {}명입니다.'.format(num_of_goblins, num_of_sphere_goblins))\n",
    "        \n",
    "    def make_goblins_attack(self):\n",
    "        for goblin in self.goblins:\n",
    "            goblin.attack()\n",
    "            \n",
    "    def add_goblins(self, new_goblins):\n",
    "        for goblin in new_goblins:\n",
    "            if goblin not in self.goblins:\n",
    "                self.goblins.append(goblin)\n",
    "            else:\n",
    "                print('이미 추가된 고블린입니다.')\n",
    "\n",
    "            \n",
    "    def remove_goblins(self, old_goblins):\n",
    "        for goblin in old_goblins:\n",
    "            try:\n",
    "                self.goblins.remove(goblin)\n",
    "            except:\n",
    "                print('소유하고 있지 않은 고블린입니다.')\n",
    "        \n",
    "\n",
    "# 고블린 오브젝트 생성\n",
    "goblin_1 = Goblin('병사', 'Small', 100, '근접 공격', 15)\n",
    "goblin_2 = Goblin('병사', 'Small', 100, '근접 공격', 15)\n",
    "sphere_goblin_1 = SphereGoblin('병사', 'Small', 100, '레인지 공격', 10, '긴 창')\n",
    "        \n",
    "# 영웅 오브젝트 생성 후, 고블린 오브젝트 할당       \n",
    "hero_1 = Hero('영웅', 'Big', 300, [goblin_1, goblin_2, sphere_goblin_1])\n",
    "\n",
    "# 새로운 고블린 생성\n",
    "goblin_3 = Goblin('병사', 'Small', 100, '근접 공격', 20)\n",
    "sphere_goblin_2 = SphereGoblin('병사', 'Small', 100, '레인지 공격', 5, '긴 창')\n",
    "\n",
    "print('# 새로운 고블린 추가 전')\n",
    "hero_1.show_own_goblins()\n",
    "hero_1.make_goblins_attack()\n",
    "\n",
    "# 새로운 고블린 추가\n",
    "hero_1.add_goblins([goblin_3, sphere_goblin_2])\n",
    "\n",
    "print('\\n# 새로운 고블린 추가 후')\n",
    "hero_1.show_own_goblins()\n",
    "hero_1.make_goblins_attack()\n",
    "\n",
    "# 추가한 고블린 삭제\n",
    "hero_1.remove_goblins([goblin_3, sphere_goblin_2])\n",
    "\n",
    "print('\\n# 추가한 고블린 삭제 후')\n",
    "hero_1.show_own_goblins()\n",
    "hero_1.make_goblins_attack()\n",
    "\n",
    "# 영웅에게 소유되지 않은 고블린 생성\n",
    "goblin_4 = Goblin('병사', 'Small', 100, '근접 공격', 20)\n",
    "\n",
    "# 이미 소유한 고블린 추가\n",
    "print('\\n# 에러 메세지 발생')\n",
    "hero_1.add_goblins([goblin_1])\n",
    "hero_1.remove_goblins([goblin_4])"
   ]
  },
  {
   "cell_type": "code",
   "execution_count": null,
   "metadata": {},
   "outputs": [],
   "source": []
  }
 ],
 "metadata": {
  "kernelspec": {
   "display_name": "Python 3",
   "language": "python",
   "name": "python3"
  },
  "language_info": {
   "codemirror_mode": {
    "name": "ipython",
    "version": 3
   },
   "file_extension": ".py",
   "mimetype": "text/x-python",
   "name": "python",
   "nbconvert_exporter": "python",
   "pygments_lexer": "ipython3",
   "version": "3.7.3"
  },
  "varInspector": {
   "cols": {
    "lenName": 16,
    "lenType": 16,
    "lenVar": 40
   },
   "kernels_config": {
    "python": {
     "delete_cmd_postfix": "",
     "delete_cmd_prefix": "del ",
     "library": "var_list.py",
     "varRefreshCmd": "print(var_dic_list())"
    },
    "r": {
     "delete_cmd_postfix": ") ",
     "delete_cmd_prefix": "rm(",
     "library": "var_list.r",
     "varRefreshCmd": "cat(var_dic_list()) "
    }
   },
   "types_to_exclude": [
    "module",
    "function",
    "builtin_function_or_method",
    "instance",
    "_Feature"
   ],
   "window_display": false
  }
 },
 "nbformat": 4,
 "nbformat_minor": 2
}
