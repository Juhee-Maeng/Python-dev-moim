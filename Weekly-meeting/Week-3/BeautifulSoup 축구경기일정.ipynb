{
  "nbformat": 4,
  "nbformat_minor": 0,
  "metadata": {
    "colab": {
      "name": "네이버 축구경기일정 크롤링.ipynb",
      "provenance": [],
      "collapsed_sections": [],
      "toc_visible": true
    },
    "kernelspec": {
      "name": "python3",
      "display_name": "Python 3"
    },
    "accelerator": "GPU"
  },
  "cells": [
    {
      "cell_type": "code",
      "metadata": {
        "id": "yxs70pysygMy",
        "colab_type": "code",
        "colab": {}
      },
      "source": [
        "import numpy as np\n",
        "import requests\n",
        "from bs4 import BeautifulSoup\n",
        "import pandas as pd\n",
        "import re"
      ],
      "execution_count": 0,
      "outputs": []
    },
    {
      "cell_type": "code",
      "metadata": {
        "id": "-4QnOJ9mymxh",
        "colab_type": "code",
        "colab": {}
      },
      "source": [
        "html = requests.get(\"https://sports.news.naver.com/kfootball/schedule/index.nhn?date=20200308&year=2013&month=03&category=kleague2\").text # 문자열을 가져온것\n",
        "soup = BeautifulSoup(html, \"html.parser\") # BeautifulSoup라는 객체로 만들기.\n",
        "# 한페이지만 일단 긁어옵니다."
      ],
      "execution_count": 0,
      "outputs": []
    },
    {
      "cell_type": "code",
      "metadata": {
        "id": "oB8W46TCy7m6",
        "colab_type": "code",
        "colab": {}
      },
      "source": [
        "soup = soup.find_all(\"script\",{\"type\":\"text/javascript\"})\n",
        "soup = str(soup)\n",
        "# 파싱 한것을 스트링 형태로 바꿉니다."
      ],
      "execution_count": 0,
      "outputs": []
    },
    {
      "cell_type": "code",
      "metadata": {
        "id": "AeEnPto5zhmQ",
        "colab_type": "code",
        "colab": {}
      },
      "source": [
        "find_data = re.sub(\"[\\\"\\{\\[\\&]\",'',find_data) # 문자열 전처리\n",
        "find_data = soup.replace(\":\",\",\") # 문자열을 조금더 구체적으로 나누기 위해 :로된 부분들은 ,로 바꾸었습니다.\n",
        "find_data = find_data.split(',') # , 을 기준으로 단어로 구분합니다."
      ],
      "execution_count": 0,
      "outputs": []
    },
    {
      "cell_type": "code",
      "metadata": {
        "id": "mIvm84Aq7Ng6",
        "colab_type": "code",
        "colab": {}
      },
      "source": [
        "soccer_data = {\"gameStartDate\": [], \"gameStartTime\": [], \"stadium\": [], \"homeTeamName\": [], \"awayTeamName\": [],\n",
        "               \"homeTeamScore\": [], \"awayTeamScore\": []} # starttime은 인덱스 2개가지고와야함. 해결과제"
      ],
      "execution_count": 0,
      "outputs": []
    },
    {
      "cell_type": "markdown",
      "metadata": {
        "id": "bWTBn7Dg_aGk",
        "colab_type": "text"
      },
      "source": [
        "# 하드 코딩"
      ]
    },
    {
      "cell_type": "code",
      "metadata": {
        "id": "5lUMOIjY1VNR",
        "colab_type": "code",
        "colab": {}
      },
      "source": [
        "for i in range(len(find_data)):\n",
        "  if find_data[i] == \"gameStartDate\":\n",
        "    soccer_data[\"gameStartDate\"].append(find_data[i+1])\n",
        "  if find_data[i] == \"gameStartTime\":\n",
        "    soccer_data[\"gameStartTime\"].append(find_data[i+1])\n",
        "  if find_data[i] == \"stadium\":\n",
        "    soccer_data[\"stadium\"].append(find_data[i+1])\n",
        "  if find_data[i] == \"homeTeamName\"\n",
        "  # 이런식으로 짤 수도 있음."
      ],
      "execution_count": 0,
      "outputs": []
    },
    {
      "cell_type": "markdown",
      "metadata": {
        "id": "OuJB1wlwvkv-",
        "colab_type": "text"
      },
      "source": [
        "# 하드코딩 반복문"
      ]
    },
    {
      "cell_type": "code",
      "metadata": {
        "id": "aMceuoHmwF0g",
        "colab_type": "code",
        "colab": {}
      },
      "source": [
        "for data in soccer_data:\n",
        "  for i in range(len(find_data)):\n",
        "    if data == find_data[i]:\n",
        "      soccer_data[data].append(find_data[i+1])"
      ],
      "execution_count": 0,
      "outputs": []
    },
    {
      "cell_type": "code",
      "metadata": {
        "id": "KOXrsrKv_nGE",
        "colab_type": "code",
        "colab": {}
      },
      "source": [
        "DataFrame_Soccer = pd.DataFrame(soccer_data)"
      ],
      "execution_count": 0,
      "outputs": []
    },
    {
      "cell_type": "code",
      "metadata": {
        "id": "8D4QU2_2DR-t",
        "colab_type": "code",
        "outputId": "5dfd221d-501a-4276-e4c7-f4e1363f483c",
        "colab": {
          "base_uri": "https://localhost:8080/",
          "height": 421
        }
      },
      "source": [
        "# DataFrame_Soccer.set_index('gameStartDate',drop=True) # 인덱스를 날짜로 바꿀 수 있음."
      ],
      "execution_count": 0,
      "outputs": [
        {
          "output_type": "execute_result",
          "data": {
            "text/html": [
              "<div>\n",
              "<style scoped>\n",
              "    .dataframe tbody tr th:only-of-type {\n",
              "        vertical-align: middle;\n",
              "    }\n",
              "\n",
              "    .dataframe tbody tr th {\n",
              "        vertical-align: top;\n",
              "    }\n",
              "\n",
              "    .dataframe thead th {\n",
              "        text-align: right;\n",
              "    }\n",
              "</style>\n",
              "<table border=\"1\" class=\"dataframe\">\n",
              "  <thead>\n",
              "    <tr style=\"text-align: right;\">\n",
              "      <th></th>\n",
              "      <th>gameStartTime</th>\n",
              "      <th>stadium</th>\n",
              "      <th>homeTeamName</th>\n",
              "      <th>awayTeamName</th>\n",
              "      <th>homeTeamScore</th>\n",
              "      <th>awayTeamScore</th>\n",
              "    </tr>\n",
              "    <tr>\n",
              "      <th>gameStartDate</th>\n",
              "      <th></th>\n",
              "      <th></th>\n",
              "      <th></th>\n",
              "      <th></th>\n",
              "      <th></th>\n",
              "      <th></th>\n",
              "    </tr>\n",
              "  </thead>\n",
              "  <tbody>\n",
              "    <tr>\n",
              "      <th>2013-03-16</th>\n",
              "      <td>14</td>\n",
              "      <td>광주 월드컵</td>\n",
              "      <td>광주</td>\n",
              "      <td>상주</td>\n",
              "      <td>0</td>\n",
              "      <td>3</td>\n",
              "    </tr>\n",
              "    <tr>\n",
              "      <th>2013-03-16</th>\n",
              "      <td>16</td>\n",
              "      <td>수원 종합</td>\n",
              "      <td>수원F</td>\n",
              "      <td>부천</td>\n",
              "      <td>2</td>\n",
              "      <td>3</td>\n",
              "    </tr>\n",
              "    <tr>\n",
              "      <th>2013-03-17</th>\n",
              "      <td>14</td>\n",
              "      <td>안양 종합</td>\n",
              "      <td>안양</td>\n",
              "      <td>고양</td>\n",
              "      <td>1</td>\n",
              "      <td>1</td>\n",
              "    </tr>\n",
              "    <tr>\n",
              "      <th>2013-03-17</th>\n",
              "      <td>14</td>\n",
              "      <td>충주 종합</td>\n",
              "      <td>충주</td>\n",
              "      <td>안산</td>\n",
              "      <td>1</td>\n",
              "      <td>3</td>\n",
              "    </tr>\n",
              "    <tr>\n",
              "      <th>2013-03-23</th>\n",
              "      <td>14</td>\n",
              "      <td>부천 종합</td>\n",
              "      <td>부천</td>\n",
              "      <td>고양</td>\n",
              "      <td>3</td>\n",
              "      <td>1</td>\n",
              "    </tr>\n",
              "    <tr>\n",
              "      <th>2013-03-23</th>\n",
              "      <td>16</td>\n",
              "      <td>상주 시민</td>\n",
              "      <td>상주</td>\n",
              "      <td>수원F</td>\n",
              "      <td>1</td>\n",
              "      <td>1</td>\n",
              "    </tr>\n",
              "    <tr>\n",
              "      <th>2013-03-24</th>\n",
              "      <td>14</td>\n",
              "      <td>광주 월드컵</td>\n",
              "      <td>광주</td>\n",
              "      <td>충주</td>\n",
              "      <td>0</td>\n",
              "      <td>1</td>\n",
              "    </tr>\n",
              "    <tr>\n",
              "      <th>2013-03-30</th>\n",
              "      <td>14</td>\n",
              "      <td>고양 종합</td>\n",
              "      <td>고양</td>\n",
              "      <td>수원F</td>\n",
              "      <td>1</td>\n",
              "      <td>1</td>\n",
              "    </tr>\n",
              "    <tr>\n",
              "      <th>2013-03-30</th>\n",
              "      <td>14</td>\n",
              "      <td>부천 종합</td>\n",
              "      <td>부천</td>\n",
              "      <td>안산</td>\n",
              "      <td>0</td>\n",
              "      <td>3</td>\n",
              "    </tr>\n",
              "    <tr>\n",
              "      <th>2013-03-31</th>\n",
              "      <td>14</td>\n",
              "      <td>안양 종합</td>\n",
              "      <td>안양</td>\n",
              "      <td>광주</td>\n",
              "      <td>1</td>\n",
              "      <td>2</td>\n",
              "    </tr>\n",
              "    <tr>\n",
              "      <th>2013-03-31</th>\n",
              "      <td>14</td>\n",
              "      <td>충주 종합</td>\n",
              "      <td>충주</td>\n",
              "      <td>상주</td>\n",
              "      <td>0</td>\n",
              "      <td>0</td>\n",
              "    </tr>\n",
              "  </tbody>\n",
              "</table>\n",
              "</div>"
            ],
            "text/plain": [
              "              gameStartTime stadium  ... homeTeamScore awayTeamScore\n",
              "gameStartDate                        ...                            \n",
              "2013-03-16               14  광주 월드컵  ...             0             3\n",
              "2013-03-16               16   수원 종합  ...             2             3\n",
              "2013-03-17               14   안양 종합  ...             1             1\n",
              "2013-03-17               14   충주 종합  ...             1             3\n",
              "2013-03-23               14   부천 종합  ...             3             1\n",
              "2013-03-23               16   상주 시민  ...             1             1\n",
              "2013-03-24               14  광주 월드컵  ...             0             1\n",
              "2013-03-30               14   고양 종합  ...             1             1\n",
              "2013-03-30               14   부천 종합  ...             0             3\n",
              "2013-03-31               14   안양 종합  ...             1             2\n",
              "2013-03-31               14   충주 종합  ...             0             0\n",
              "\n",
              "[11 rows x 6 columns]"
            ]
          },
          "metadata": {
            "tags": []
          },
          "execution_count": 10
        }
      ]
    },
    {
      "cell_type": "markdown",
      "metadata": {
        "id": "1xCr4D27Eo1f",
        "colab_type": "text"
      },
      "source": [
        "# 이제 2013 ~ 2019 까지에 데이터를 크롤링해보자"
      ]
    },
    {
      "cell_type": "code",
      "metadata": {
        "id": "gNKcOSh5HLq6",
        "colab_type": "code",
        "colab": {}
      },
      "source": [
        "soccer_data = {\"gameStartDate\": [], \"gameStartTime\": [], \"stadium\": [], \"homeTeamName\": [], \"awayTeamName\": [],\n",
        "               \"homeTeamScore\": [], \"awayTeamScore\": []} # starttime은 인덱스 2개가지고와야함. 해결과제"
      ],
      "execution_count": 0,
      "outputs": []
    },
    {
      "cell_type": "code",
      "metadata": {
        "id": "DRwKNLcWFaq6",
        "colab_type": "code",
        "colab": {}
      },
      "source": [
        "year_list = range(2013,2020) # 2013부터 2019까지 1씩 자동 더하기\n",
        "month_list = range(3, 12)"
      ],
      "execution_count": 0,
      "outputs": []
    },
    {
      "cell_type": "code",
      "metadata": {
        "id": "wfz2bz9oFgDa",
        "colab_type": "code",
        "colab": {}
      },
      "source": [
        "for year in year_list:\n",
        "  for month in month_list:\n",
        "    html = requests.get(\"https://sports.news.naver.com/kfootball/schedule/index.nhn?date=20200308&year={0}&month={1}&category=kleague2\".format(year,month)).text\n",
        "    soup = BeautifulSoup(html, \"html.parser\")\n",
        "\n",
        "    soup = soup.find_all(\"script\",{\"type\":\"text/javascript\"})\n",
        "    soup = str(soup)\n",
        "    # 파싱 한것을 스트링 형태로 바꿉니다.\n",
        "\n",
        "    find_data = re.sub(\"[\\\"\\{\\[\\&]\",'',find_data) # 간단한 전처리\n",
        "    find_data = find_data.replace(\":\",\",\") # 문자열을 조금더 구체적으로 나누기 위해 :로된 부분들은 ,로 바꾸었습니다.\n",
        "    find_data = find_data.split(',') # , 을 기준으로 단어로 구분합니다.\n",
        "\n",
        "    for data in soccer_data:\n",
        "      for i in range(len(find_data)):\n",
        "        if data == find_data[i]:\n",
        "          soccer_data[data].append(find_data[i+1])"
      ],
      "execution_count": 0,
      "outputs": []
    },
    {
      "cell_type": "code",
      "metadata": {
        "id": "0nmHlDRbHKq6",
        "colab_type": "code",
        "colab": {}
      },
      "source": [
        "soccer_data_frame = pd.DataFrame(soccer_data)"
      ],
      "execution_count": 0,
      "outputs": []
    },
    {
      "cell_type": "code",
      "metadata": {
        "id": "zot9kpggDl2U",
        "colab_type": "code",
        "outputId": "ab4a8c44-0385-4e95-fda8-d1495053de75",
        "colab": {
          "base_uri": "https://localhost:8080/",
          "height": 419
        }
      },
      "source": [
        "soccer_data_frame"
      ],
      "execution_count": 0,
      "outputs": [
        {
          "output_type": "execute_result",
          "data": {
            "text/html": [
              "<div>\n",
              "<style scoped>\n",
              "    .dataframe tbody tr th:only-of-type {\n",
              "        vertical-align: middle;\n",
              "    }\n",
              "\n",
              "    .dataframe tbody tr th {\n",
              "        vertical-align: top;\n",
              "    }\n",
              "\n",
              "    .dataframe thead th {\n",
              "        text-align: right;\n",
              "    }\n",
              "</style>\n",
              "<table border=\"1\" class=\"dataframe\">\n",
              "  <thead>\n",
              "    <tr style=\"text-align: right;\">\n",
              "      <th></th>\n",
              "      <th>gameStartDate</th>\n",
              "      <th>gameStartTime</th>\n",
              "      <th>stadium</th>\n",
              "      <th>homeTeamName</th>\n",
              "      <th>awayTeamName</th>\n",
              "      <th>homeTeamScore</th>\n",
              "      <th>awayTeamScore</th>\n",
              "    </tr>\n",
              "  </thead>\n",
              "  <tbody>\n",
              "    <tr>\n",
              "      <th>0</th>\n",
              "      <td>2013-03-16</td>\n",
              "      <td>14</td>\n",
              "      <td>광주 월드컵</td>\n",
              "      <td>광주</td>\n",
              "      <td>상주</td>\n",
              "      <td>0</td>\n",
              "      <td>3</td>\n",
              "    </tr>\n",
              "    <tr>\n",
              "      <th>1</th>\n",
              "      <td>2013-03-16</td>\n",
              "      <td>16</td>\n",
              "      <td>수원 종합</td>\n",
              "      <td>수원F</td>\n",
              "      <td>부천</td>\n",
              "      <td>2</td>\n",
              "      <td>3</td>\n",
              "    </tr>\n",
              "    <tr>\n",
              "      <th>2</th>\n",
              "      <td>2013-03-17</td>\n",
              "      <td>14</td>\n",
              "      <td>안양 종합</td>\n",
              "      <td>안양</td>\n",
              "      <td>고양</td>\n",
              "      <td>1</td>\n",
              "      <td>1</td>\n",
              "    </tr>\n",
              "    <tr>\n",
              "      <th>3</th>\n",
              "      <td>2013-03-17</td>\n",
              "      <td>14</td>\n",
              "      <td>충주 종합</td>\n",
              "      <td>충주</td>\n",
              "      <td>안산</td>\n",
              "      <td>1</td>\n",
              "      <td>3</td>\n",
              "    </tr>\n",
              "    <tr>\n",
              "      <th>4</th>\n",
              "      <td>2013-03-23</td>\n",
              "      <td>14</td>\n",
              "      <td>부천 종합</td>\n",
              "      <td>부천</td>\n",
              "      <td>고양</td>\n",
              "      <td>3</td>\n",
              "      <td>1</td>\n",
              "    </tr>\n",
              "    <tr>\n",
              "      <th>...</th>\n",
              "      <td>...</td>\n",
              "      <td>...</td>\n",
              "      <td>...</td>\n",
              "      <td>...</td>\n",
              "      <td>...</td>\n",
              "      <td>...</td>\n",
              "      <td>...</td>\n",
              "    </tr>\n",
              "    <tr>\n",
              "      <th>1306</th>\n",
              "      <td>2019-11-09</td>\n",
              "      <td>15</td>\n",
              "      <td>수원 종합</td>\n",
              "      <td>수원FC</td>\n",
              "      <td>부천</td>\n",
              "      <td>1</td>\n",
              "      <td>2</td>\n",
              "    </tr>\n",
              "    <tr>\n",
              "      <th>1307</th>\n",
              "      <td>2019-11-09</td>\n",
              "      <td>15</td>\n",
              "      <td>잠실 올림픽</td>\n",
              "      <td>서울E</td>\n",
              "      <td>부산</td>\n",
              "      <td>3</td>\n",
              "      <td>5</td>\n",
              "    </tr>\n",
              "    <tr>\n",
              "      <th>1308</th>\n",
              "      <td>2019-11-09</td>\n",
              "      <td>15</td>\n",
              "      <td>아산 이순신</td>\n",
              "      <td>아산</td>\n",
              "      <td>안양</td>\n",
              "      <td>1</td>\n",
              "      <td>4</td>\n",
              "    </tr>\n",
              "    <tr>\n",
              "      <th>1309</th>\n",
              "      <td>2019-11-23</td>\n",
              "      <td>15</td>\n",
              "      <td>안양 종합</td>\n",
              "      <td>안양</td>\n",
              "      <td>부천</td>\n",
              "      <td>1</td>\n",
              "      <td>1</td>\n",
              "    </tr>\n",
              "    <tr>\n",
              "      <th>1310</th>\n",
              "      <td>2019-11-30</td>\n",
              "      <td>14</td>\n",
              "      <td>부산 구덕</td>\n",
              "      <td>부산</td>\n",
              "      <td>안양</td>\n",
              "      <td>1</td>\n",
              "      <td>0</td>\n",
              "    </tr>\n",
              "  </tbody>\n",
              "</table>\n",
              "<p>1311 rows × 7 columns</p>\n",
              "</div>"
            ],
            "text/plain": [
              "     gameStartDate gameStartTime  ... homeTeamScore awayTeamScore\n",
              "0       2013-03-16            14  ...             0             3\n",
              "1       2013-03-16            16  ...             2             3\n",
              "2       2013-03-17            14  ...             1             1\n",
              "3       2013-03-17            14  ...             1             3\n",
              "4       2013-03-23            14  ...             3             1\n",
              "...            ...           ...  ...           ...           ...\n",
              "1306    2019-11-09            15  ...             1             2\n",
              "1307    2019-11-09            15  ...             3             5\n",
              "1308    2019-11-09            15  ...             1             4\n",
              "1309    2019-11-23            15  ...             1             1\n",
              "1310    2019-11-30            14  ...             1             0\n",
              "\n",
              "[1311 rows x 7 columns]"
            ]
          },
          "metadata": {
            "tags": []
          },
          "execution_count": 21
        }
      ]
    },
    {
      "cell_type": "code",
      "metadata": {
        "id": "vz3qTKZmH01m",
        "colab_type": "code",
        "colab": {}
      },
      "source": [
        "soccer_data_frame.to_csv(\"test.csv\",encoding='euc-kr')"
      ],
      "execution_count": 0,
      "outputs": []
    }
  ]
}