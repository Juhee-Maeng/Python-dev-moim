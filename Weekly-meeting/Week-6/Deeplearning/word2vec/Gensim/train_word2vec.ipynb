{
 "cells": [
  {
   "cell_type": "code",
   "execution_count": 1,
   "metadata": {},
   "outputs": [],
   "source": [
    "import re\n",
    "import time\n",
    "from gensim.models import word2vec\n",
    "from stopwords import stopwords"
   ]
  },
  {
   "cell_type": "code",
   "execution_count": 14,
   "metadata": {},
   "outputs": [],
   "source": [
    "corpus_path = \"imdb.corpus\"\n",
    "num_features = 128 # 문자 벡터 차원 수\n",
    "min_word_count = 1 # 최소 문자 수\n",
    "num_workers = 4 # 병렬 처리 스레드 수\n",
    "window_size = 4 # 문자열 창 크기\n",
    "vocab_size = 10000\n",
    "iters = 50"
   ]
  },
  {
   "cell_type": "code",
   "execution_count": 10,
   "metadata": {},
   "outputs": [],
   "source": [
    "f = open(corpus_path)\n",
    "\n",
    "train_list = []\n",
    "\n",
    "for sent in f:\n",
    "    rep_sent = re.sub(\"[^\\w\\s']\", \"\", sent.strip())\n",
    "    uncased_sent = rep_sent.strip().lower()\n",
    "    words = uncased_sent.split()\n",
    "    words = [word for word in words if word not in stopwords]\n",
    "    train_list.append(words)"
   ]
  },
  {
   "cell_type": "code",
   "execution_count": 11,
   "metadata": {},
   "outputs": [
    {
     "data": {
      "text/plain": [
       "50000"
      ]
     },
     "execution_count": 11,
     "metadata": {},
     "output_type": "execute_result"
    }
   ],
   "source": [
    "len(train_list)"
   ]
  },
  {
   "cell_type": "code",
   "execution_count": 15,
   "metadata": {},
   "outputs": [
    {
     "name": "stdout",
     "output_type": "stream",
     "text": [
      "279.93 seconds\n"
     ]
    }
   ],
   "source": [
    "start_time = time.time()\n",
    "\n",
    "model = word2vec.Word2Vec(train_list, \n",
    "                          workers=num_workers, \n",
    "                          size=num_features, \n",
    "                          min_count=min_word_count,\n",
    "                          window=window_size,\n",
    "                          max_vocab_size=vocab_size,\n",
    "                          iter=iters,\n",
    "                          sg=1)\n",
    "\n",
    "end_time = time.time()\n",
    "elapsed_time = round(end_time-start_time, 2)\n",
    "print(f\"{elapsed_time} seconds\")"
   ]
  },
  {
   "cell_type": "code",
   "execution_count": 21,
   "metadata": {},
   "outputs": [
    {
     "data": {
      "text/plain": [
       "[('stephen', 0.6479955911636353),\n",
       " ('prince', 0.5243314504623413),\n",
       " ('legend', 0.5024659037590027),\n",
       " (\"king's\", 0.49432098865509033),\n",
       " ('kong', 0.48489004373550415),\n",
       " ('paul', 0.4763152599334717),\n",
       " ('queen', 0.4747203588485718),\n",
       " ('princess', 0.45793741941452026),\n",
       " ('philanderer', 0.4560636579990387),\n",
       " ('henry', 0.44290614128112793)]"
      ]
     },
     "execution_count": 21,
     "metadata": {},
     "output_type": "execute_result"
    }
   ],
   "source": [
    "model.wv.most_similar(\"king\")"
   ]
  },
  {
   "cell_type": "code",
   "execution_count": 22,
   "metadata": {},
   "outputs": [
    {
     "data": {
      "text/plain": [
       "[('princess', 0.49931710958480835),\n",
       " ('victoria', 0.4922579526901245),\n",
       " ('king', 0.4747203588485718),\n",
       " ('sister', 0.42844146490097046),\n",
       " ('elizabeth', 0.4148041605949402),\n",
       " ('girl', 0.41310620307922363),\n",
       " ('daughter', 0.40912750363349915),\n",
       " ('prince', 0.40820860862731934),\n",
       " ('red', 0.4005659818649292),\n",
       " ('angel', 0.391596257686615)]"
      ]
     },
     "execution_count": 22,
     "metadata": {},
     "output_type": "execute_result"
    }
   ],
   "source": [
    "model.wv.most_similar(\"queen\")"
   ]
  },
  {
   "cell_type": "code",
   "execution_count": 23,
   "metadata": {},
   "outputs": [
    {
     "data": {
      "text/plain": [
       "[('princess', 0.5132176876068115),\n",
       " ('queen', 0.49351879954338074),\n",
       " (\"king's\", 0.49255621433258057),\n",
       " ('prince', 0.4778579771518707),\n",
       " ('stephen', 0.47694116830825806),\n",
       " ('lear', 0.4557357430458069),\n",
       " ('mary', 0.44738343358039856),\n",
       " ('kong', 0.4216330647468567),\n",
       " ('arly', 0.407665491104126),\n",
       " ('jover', 0.3957957923412323)]"
      ]
     },
     "execution_count": 23,
     "metadata": {},
     "output_type": "execute_result"
    }
   ],
   "source": [
    "model.wv.most_similar(positive=[\"king\",\"woman\"], negative=[\"man\"])"
   ]
  }
 ],
 "metadata": {
  "kernelspec": {
   "display_name": "Python 3",
   "language": "python",
   "name": "python3"
  },
  "language_info": {
   "codemirror_mode": {
    "name": "ipython",
    "version": 3
   },
   "file_extension": ".py",
   "mimetype": "text/x-python",
   "name": "python",
   "nbconvert_exporter": "python",
   "pygments_lexer": "ipython3",
   "version": "3.6.10"
  }
 },
 "nbformat": 4,
 "nbformat_minor": 4
}
