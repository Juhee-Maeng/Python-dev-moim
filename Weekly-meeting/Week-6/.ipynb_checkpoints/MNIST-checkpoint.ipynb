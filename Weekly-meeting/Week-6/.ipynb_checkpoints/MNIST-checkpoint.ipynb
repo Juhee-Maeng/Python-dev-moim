{
 "cells": [
  {
   "cell_type": "code",
   "execution_count": 2,
   "metadata": {},
   "outputs": [],
   "source": [
    "import tensorflow as tf\n",
    "import numpy as np\n",
    "from tensorflow.examples.tutorials.mnist import input_data\n",
    "from matplotlib import pyplot as plt"
   ]
  },
  {
   "cell_type": "code",
   "execution_count": 4,
   "metadata": {},
   "outputs": [
    {
     "name": "stdout",
     "output_type": "stream",
     "text": [
      "Extracting ./dataset/mnist/train-images-idx3-ubyte.gz\n",
      "Extracting ./dataset/mnist/train-labels-idx1-ubyte.gz\n",
      "Extracting ./dataset/mnist/t10k-images-idx3-ubyte.gz\n",
      "Extracting ./dataset/mnist/t10k-labels-idx1-ubyte.gz\n"
     ]
    }
   ],
   "source": [
    "mnist = input_data.read_data_sets(\"./dataset/mnist/\", one_hot=True)"
   ]
  },
  {
   "cell_type": "code",
   "execution_count": 5,
   "metadata": {},
   "outputs": [
    {
     "name": "stdout",
     "output_type": "stream",
     "text": [
      "(55000, 784) (55000, 10)\n",
      "(10000, 784) (10000, 10)\n"
     ]
    }
   ],
   "source": [
    "print(mnist.train.images.shape, mnist.train.labels.shape)\n",
    "print(mnist.test.images.shape, mnist.test.labels.shape)"
   ]
  },
  {
   "cell_type": "code",
   "execution_count": 6,
   "metadata": {},
   "outputs": [
    {
     "data": {
      "image/png": "[encoded data removed]",
      "text/plain": [
       "<Figure size 432x288 with 36 Axes>"
      ]
     },
     "metadata": {},
     "output_type": "display_data"
    }
   ],
   "source": [
    "fig = plt.figure()\n",
    "for i in range(36):\n",
    "    subplot = fig.add_subplot(6, 6, i + 1)\n",
    "    subplot.set_xticks([])\n",
    "    subplot.set_yticks([])\n",
    "    subplot.set_title(np.argmax(mnist.train.labels[i]))\n",
    "    subplot.imshow(mnist.train.images[i].reshape((28, 28)), cmap=plt.cm.gray_r)\n",
    "plt.tight_layout()\n",
    "plt.show()"
   ]
  },
  {
   "cell_type": "markdown",
   "metadata": {},
   "source": [
    "# Define"
   ]
  },
  {
   "cell_type": "code",
   "execution_count": 7,
   "metadata": {},
   "outputs": [],
   "source": [
    "## input place holder\n",
    "\n",
    "X = tf.placeholder(\"float\", [None, 784])\n",
    "Y = tf.placeholder(\"float\", [None, 10])"
   ]
  },
  {
   "cell_type": "code",
   "execution_count": 8,
   "metadata": {},
   "outputs": [],
   "source": [
    "## model\n",
    "\n",
    "W1 = tf.Variable(tf.random_normal([784, 10], stddev=0.01), name='W1')\n",
    "B1 = tf.Variable(tf.random_normal([10]), name='B1')\n",
    "logits = tf.matmul(X, W1) + B1\n",
    "# softmax_logits = tf.nn.softmax(logits)"
   ]
  },
  {
   "cell_type": "code",
   "execution_count": 9,
   "metadata": {},
   "outputs": [],
   "source": [
    "## optimizer\n",
    "\n",
    "loss = tf.reduce_mean(tf.nn.softmax_cross_entropy_with_logits_v2(logits=logits, labels=Y))\n",
    "# loss = tf.reduce_mean(-tf.reduce_sum(Y * tf.log(tf.clip_by_value(softmax_logits, 1e-10, 1.0)), [1]))\n",
    "opt = tf.train.GradientDescentOptimizer(0.05).minimize(loss)"
   ]
  },
  {
   "cell_type": "code",
   "execution_count": 10,
   "metadata": {},
   "outputs": [],
   "source": [
    "# metrics\n",
    "\n",
    "is_correct = tf.equal(tf.argmax(logits, 1), tf.argmax(Y, 1))\n",
    "accuracy = tf.reduce_mean(tf.cast(is_correct, tf.float32))"
   ]
  },
  {
   "cell_type": "markdown",
   "metadata": {},
   "source": [
    "# Session run"
   ]
  },
  {
   "cell_type": "code",
   "execution_count": 11,
   "metadata": {},
   "outputs": [
    {
     "name": "stdout",
     "output_type": "stream",
     "text": [
      "Epoch: 0001 Avg. cost = 0.688 Train Acc. = 0.8779455\n",
      "Epoch: 0002 Avg. cost = 0.422 Train Acc. = 0.89247274\n",
      "Epoch: 0003 Avg. cost = 0.379 Train Acc. = 0.8985636\n",
      "Epoch: 0004 Avg. cost = 0.357 Train Acc. = 0.9032\n",
      "Epoch: 0005 Avg. cost = 0.343 Train Acc. = 0.90541816\n",
      "Epoch: 0006 Avg. cost = 0.333 Train Acc. = 0.9090545\n",
      "Epoch: 0007 Avg. cost = 0.325 Train Acc. = 0.91083634\n",
      "Epoch: 0008 Avg. cost = 0.319 Train Acc. = 0.9123818\n",
      "Epoch: 0009 Avg. cost = 0.314 Train Acc. = 0.91409093\n",
      "Epoch: 0010 Avg. cost = 0.309 Train Acc. = 0.91474545\n",
      "Epoch: 0011 Avg. cost = 0.306 Train Acc. = 0.9163091\n",
      "Epoch: 0012 Avg. cost = 0.302 Train Acc. = 0.91661817\n",
      "Epoch: 0013 Avg. cost = 0.300 Train Acc. = 0.91776365\n",
      "Epoch: 0014 Avg. cost = 0.297 Train Acc. = 0.9184\n",
      "Epoch: 0015 Avg. cost = 0.295 Train Acc. = 0.91874546\n",
      "Epoch: 0016 Avg. cost = 0.293 Train Acc. = 0.91934544\n",
      "Epoch: 0017 Avg. cost = 0.291 Train Acc. = 0.92007273\n",
      "Epoch: 0018 Avg. cost = 0.289 Train Acc. = 0.91925454\n",
      "Epoch: 0019 Avg. cost = 0.287 Train Acc. = 0.9198545\n",
      "Epoch: 0020 Avg. cost = 0.286 Train Acc. = 0.9214909\n",
      "Training Done!\n",
      "Test Acc. =  0.9209\n",
      "saved path : ./model/mnist.dnn\n"
     ]
    }
   ],
   "source": [
    "BATCH_SIZE = 100\n",
    "EPOCHS = 20\n",
    "TOTAL_BATCH = int(mnist.train.num_examples / BATCH_SIZE)\n",
    "MODEL_NAME = 'mnist.dnn'\n",
    "\n",
    "init = tf.global_variables_initializer()\n",
    "sess = tf.Session()\n",
    "sess.run(init)\n",
    "saver = tf.train.Saver()\n",
    "\n",
    "for epoch in range(EPOCHS):\n",
    "    total_cost = 0\n",
    "    for i in range(TOTAL_BATCH):\n",
    "        batch_xs, batch_ys = mnist.train.next_batch(BATCH_SIZE)\n",
    "        _, cost_val = sess.run([opt, loss], feed_dict={X: batch_xs, Y: batch_ys})\n",
    "        total_cost += cost_val\n",
    "\n",
    "    print('Epoch:', '%04d' % (epoch + 1), 'Avg. cost =', '{:.3f}'.format(total_cost / TOTAL_BATCH), 'Train Acc. =', sess.run(accuracy, feed_dict={X: mnist.train.images, Y: mnist.train.labels}))\n",
    "\n",
    "print('Training Done!')\n",
    "print('Test Acc. = ', sess.run(accuracy, feed_dict={X: mnist.test.images, Y: mnist.test.labels}))\n",
    "save_path = saver.save(sess, \"./model/\" + MODEL_NAME)\n",
    "print(f'saved path : {save_path}')\n",
    "sess.close()"
   ]
  },
  {
   "cell_type": "markdown",
   "metadata": {},
   "source": [
    "# Restore model"
   ]
  },
  {
   "cell_type": "code",
   "execution_count": 21,
   "metadata": {},
   "outputs": [
    {
     "data": {
      "image/png": "[encoded data removed]",
      "text/plain": [
       "<Figure size 432x288 with 1 Axes>"
      ]
     },
     "metadata": {
      "needs_background": "light"
     },
     "output_type": "display_data"
    }
   ],
   "source": [
    "# sample random data\n",
    "import random\n",
    "random_idx = random.randint(0, len(mnist.test.images))\n",
    "sample_image = mnist.test.images[random_idx]\n",
    "\n",
    "fig = plt.figure\n",
    "plt.imshow(sample_image.reshape((28,28)), cmap=plt.cm.gray_r)\n",
    "plt.show()"
   ]
  },
  {
   "cell_type": "code",
   "execution_count": 28,
   "metadata": {},
   "outputs": [
    {
     "name": "stdout",
     "output_type": "stream",
     "text": [
      "INFO:tensorflow:Restoring parameters from ./model/mnist.dnn\n",
      "predict : [3]\n"
     ]
    }
   ],
   "source": [
    "saver = tf.train.Saver()\n",
    "MODEL_NAME = 'mnist.dnn'\n",
    "\n",
    "\n",
    "with tf.Session() as sess:\n",
    "    saver.restore(sess, \"./model/\" + MODEL_NAME)\n",
    "    pred = tf.argmax(logits, axis=1)\n",
    "    result = sess.run(pred, feed_dict={X:sample_image[None,:]})\n",
    "\n",
    "print(f'predict : {result}')"
   ]
  },
  {
   "cell_type": "code",
   "execution_count": null,
   "metadata": {},
   "outputs": [],
   "source": []
  }
 ],
 "metadata": {
  "kernelspec": {
   "display_name": "Python 3",
   "language": "python",
   "name": "python3"
  },
  "language_info": {
   "codemirror_mode": {
    "name": "ipython",
    "version": 3
   },
   "file_extension": ".py",
   "mimetype": "text/x-python",
   "name": "python",
   "nbconvert_exporter": "python",
   "pygments_lexer": "ipython3",
   "version": "3.6.10"
  }
 },
 "nbformat": 4,
 "nbformat_minor": 4
}
