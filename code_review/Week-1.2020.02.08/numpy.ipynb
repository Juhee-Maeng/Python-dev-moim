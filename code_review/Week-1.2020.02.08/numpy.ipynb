{
 "cells": [
  {
   "cell_type": "code",
   "execution_count": 36,
   "metadata": {
    "scrolled": true
   },
   "outputs": [
    {
     "name": "stdout",
     "output_type": "stream",
     "text": [
      "[[1 2 3]]\n",
      "<class 'numpy.ndarray'>\n"
     ]
    }
   ],
   "source": [
    "# 행렬 생성함수 numpy.array([]) / [] 1차원 배열(벡터)형식으로 생성, [],[] =>2차원(매트릭스)\n",
    "import numpy as np\n",
    "b = np.array([[1,2,3]])\n",
    "print(b)\n",
    "print(type(b))"
   ]
  },
  {
   "cell_type": "code",
   "execution_count": 37,
   "metadata": {},
   "outputs": [
    {
     "name": "stdout",
     "output_type": "stream",
     "text": [
      "(1, 3)\n"
     ]
    }
   ],
   "source": [
    "print(b.shape) #shape : 배열이 몇 차원인지 알아보는 함수 -> (행,열) 형식으로 나타나면 2차원 배열"
   ]
  },
  {
   "cell_type": "code",
   "execution_count": 38,
   "metadata": {},
   "outputs": [
    {
     "data": {
      "text/plain": [
       "1"
      ]
     },
     "execution_count": 38,
     "metadata": {},
     "output_type": "execute_result"
    }
   ],
   "source": [
    "b[0,0]"
   ]
  },
  {
   "cell_type": "code",
   "execution_count": 39,
   "metadata": {},
   "outputs": [
    {
     "name": "stdout",
     "output_type": "stream",
     "text": [
      "[[0. 0.]\n",
      " [0. 0.]]\n"
     ]
    },
    {
     "data": {
      "text/plain": [
       "numpy.ndarray"
      ]
     },
     "execution_count": 39,
     "metadata": {},
     "output_type": "execute_result"
    }
   ],
   "source": [
    "#numpy.zeros((행,열)) : 모든 요소가 0인 행렬 생성\n",
    "aa=np.zeros((2,2))\n",
    "print(aa)\n",
    "type(aa)"
   ]
  },
  {
   "cell_type": "code",
   "execution_count": 40,
   "metadata": {},
   "outputs": [
    {
     "name": "stdout",
     "output_type": "stream",
     "text": [
      "[[1. 1. 1.]\n",
      " [1. 1. 1.]]\n"
     ]
    }
   ],
   "source": [
    "#numpy.ones((행,열)) : 모든 요소가 1인 행렬 생성\n",
    "aa=np.ones((2,3))\n",
    "print(aa)"
   ]
  },
  {
   "cell_type": "code",
   "execution_count": 41,
   "metadata": {},
   "outputs": [
    {
     "name": "stdout",
     "output_type": "stream",
     "text": [
      "[[100 100 100]\n",
      " [100 100 100]]\n"
     ]
    }
   ],
   "source": [
    "#numpy.full((행,열),값) : 원하는 값을 요소로 행렬 생성\n",
    "aa=np.full((2,3),100)\n",
    "print(aa)"
   ]
  },
  {
   "cell_type": "code",
   "execution_count": 42,
   "metadata": {},
   "outputs": [
    {
     "name": "stdout",
     "output_type": "stream",
     "text": [
      "[[1. 0. 0. 0. 0. 0.]\n",
      " [0. 1. 0. 0. 0. 0.]\n",
      " [0. 0. 1. 0. 0. 0.]\n",
      " [0. 0. 0. 1. 0. 0.]\n",
      " [0. 0. 0. 0. 1. 0.]\n",
      " [0. 0. 0. 0. 0. 1.]]\n"
     ]
    }
   ],
   "source": [
    "#numpy.eye(n차행렬) : 대각선이 1이고 나머지가 0인 n차 행렬 생성\n",
    "aa=np.eye(6)\n",
    "print(aa)"
   ]
  },
  {
   "cell_type": "code",
   "execution_count": 43,
   "metadata": {},
   "outputs": [
    {
     "name": "stdout",
     "output_type": "stream",
     "text": [
      "[[ 0  1  2  3  4  5  6  7  8  9]\n",
      " [10 11 12 13 14 15 16 17 18 19]\n",
      " [20 21 22 23 24 25 26 27 28 29]]\n"
     ]
    }
   ],
   "source": [
    "#reshape((행,열)) : 배열된 요소를 입력한 행,열 값으로 재구성\n",
    "aa=np.array(range(30)).reshape((3,10))\n",
    "print(aa)"
   ]
  },
  {
   "cell_type": "code",
   "execution_count": 44,
   "metadata": {},
   "outputs": [
    {
     "name": "stdout",
     "output_type": "stream",
     "text": [
      "[[1 2]\n",
      " [4 5]]\n"
     ]
    }
   ],
   "source": [
    "#numpy 슬라이싱 -> 매트릭스[행 시작점:끝점, 열 시작점 : 끝점]\n",
    "#시작점부터 끝점 앞까지 잘라 원하는 만큼의 행렬 생성 가능\n",
    "\n",
    "list = [\n",
    "    [1,2,3],\n",
    "    [4,5,6],\n",
    "    [7,8,9]\n",
    "]\n",
    "\n",
    "arr = np.array(list)\n",
    "\n",
    "a = arr[0:2,0:2]\n",
    "\n",
    "print(a)"
   ]
  },
  {
   "cell_type": "code",
   "execution_count": 45,
   "metadata": {},
   "outputs": [
    {
     "name": "stdout",
     "output_type": "stream",
     "text": [
      "[[5 6]\n",
      " [8 9]]\n"
     ]
    }
   ],
   "source": [
    "a2 = arr[1:,1:]\n",
    "print(a2)"
   ]
  },
  {
   "cell_type": "code",
   "execution_count": 46,
   "metadata": {},
   "outputs": [
    {
     "name": "stdout",
     "output_type": "stream",
     "text": [
      "[ 2 12]\n"
     ]
    }
   ],
   "source": [
    "#numpy 정수 인덱싱(integer indexing)\n",
    "\n",
    "#numpy 배열 a에 대해서 a[[row1,row2],[col1,col2]]는\n",
    "#a[row1,col1]와 a[row2,col2]라는 2개의 배열 요소 집합을 의미\n",
    "\n",
    "list2 = [\n",
    "    [1,2,3,4],\n",
    "    [5,6,7,8],\n",
    "    [9,10,11,12]\n",
    "]\n",
    "\n",
    "a3 = np.array(list2)\n",
    "\n",
    "#정수 인덱싱\n",
    "res = a3[[0,2],[1,3]] # a3[[행],[열]] => a3[0,1],a3[2,3]\n",
    "print(res)"
   ]
  },
  {
   "cell_type": "code",
   "execution_count": 47,
   "metadata": {},
   "outputs": [
    {
     "data": {
      "text/plain": [
       "numpy.ndarray"
      ]
     },
     "execution_count": 47,
     "metadata": {},
     "output_type": "execute_result"
    }
   ],
   "source": [
    "type(res)"
   ]
  },
  {
   "cell_type": "code",
   "execution_count": 48,
   "metadata": {},
   "outputs": [
    {
     "name": "stdout",
     "output_type": "stream",
     "text": [
      "[2 4 6 8]\n"
     ]
    }
   ],
   "source": [
    "#부울린 인덱싱 (boolean indexing)\n",
    "list3 = [\n",
    "    [1,2,3],\n",
    "    [4,5,6],\n",
    "    [7,8,9]\n",
    "]\n",
    "\n",
    "a4 = np.array(list3)\n",
    "\n",
    "b_a4 = np.array([\n",
    "    [False,True,False],\n",
    "    [True,False,True],\n",
    "    [False,True,False]\n",
    "])\n",
    "n = a4[b_a4]\n",
    "\n",
    "print(n)\n"
   ]
  },
  {
   "cell_type": "code",
   "execution_count": 49,
   "metadata": {},
   "outputs": [
    {
     "name": "stdout",
     "output_type": "stream",
     "text": [
      "[[False  True False]\n",
      " [ True False  True]\n",
      " [False  True False]]\n"
     ]
    }
   ],
   "source": [
    "#부울린 인덱싱 배열을 생성할 때 표현식으로 이용하기\n",
    "\n",
    "#배열 a에 대해서 짝수인 배열 요소만 True로 지정하겠다 하면\n",
    "#b_arr=(a%2==0)\n",
    "\n",
    "list5 = [\n",
    "    [1,2,3],\n",
    "    [4,5,6],\n",
    "    [7,8,9]\n",
    "]\n",
    "\n",
    "arr = np.array(list5)\n",
    "\n",
    "#배열 arr에 대해 짝수면 True, 홀수면 False\n",
    "b_arr=(arr%2==0)\n",
    "print(b_arr)"
   ]
  },
  {
   "cell_type": "code",
   "execution_count": 50,
   "metadata": {},
   "outputs": [
    {
     "name": "stdout",
     "output_type": "stream",
     "text": [
      "[2 4 6 8]\n"
     ]
    }
   ],
   "source": [
    "print(arr[b_arr])"
   ]
  },
  {
   "cell_type": "code",
   "execution_count": 51,
   "metadata": {},
   "outputs": [
    {
     "name": "stdout",
     "output_type": "stream",
     "text": [
      "[2 4 6 8]\n"
     ]
    }
   ],
   "source": [
    "n=arr[arr%2==0]\n",
    "print(n)"
   ]
  },
  {
   "cell_type": "code",
   "execution_count": 52,
   "metadata": {},
   "outputs": [
    {
     "name": "stdout",
     "output_type": "stream",
     "text": [
      "[5 7 9]\n",
      "[5 7 9]\n"
     ]
    }
   ],
   "source": [
    "#numpy 연산\n",
    "\n",
    "#연산자를 이용할 경우에는 +,-,*,/\n",
    "#함수를 사용할 경우에는 add(),substract(),multiply(),divide()\n",
    "#배열 a와 배열 b가 있을 때, a+b는 a[0] + b[0], a[1]+b[1]... 와 같은 방식으로 결과를 리턴\n",
    "\n",
    "a=np.array([1,2,3])\n",
    "b = np.array([4,5,6])\n",
    "\n",
    "c = a + b\n",
    "print(c)\n",
    "\n",
    "c2= np.add(a,b)\n",
    "print(c2)"
   ]
  },
  {
   "cell_type": "code",
   "execution_count": 53,
   "metadata": {},
   "outputs": [
    {
     "name": "stdout",
     "output_type": "stream",
     "text": [
      "[-3 -3 -3]\n",
      "[-3 -3 -3]\n"
     ]
    }
   ],
   "source": [
    "d = a-b\n",
    "print(d)\n",
    "d2 = np.subtract(a,b)\n",
    "print(d2)"
   ]
  },
  {
   "cell_type": "code",
   "execution_count": 54,
   "metadata": {},
   "outputs": [
    {
     "name": "stdout",
     "output_type": "stream",
     "text": [
      "[ 4 10 18]\n",
      "[ 4 10 18]\n"
     ]
    }
   ],
   "source": [
    "e = a*b\n",
    "print(e)\n",
    "e2 = np.multiply(a,b)\n",
    "print(e2)"
   ]
  },
  {
   "cell_type": "code",
   "execution_count": 55,
   "metadata": {},
   "outputs": [
    {
     "name": "stdout",
     "output_type": "stream",
     "text": [
      "[0.25 0.4  0.5 ]\n",
      "[0.25 0.4  0.5 ]\n"
     ]
    }
   ],
   "source": [
    "f = a/b\n",
    "print(f)\n",
    "f2 = np.divide(a,b)\n",
    "print(f2)"
   ]
  },
  {
   "cell_type": "code",
   "execution_count": 56,
   "metadata": {},
   "outputs": [
    {
     "name": "stdout",
     "output_type": "stream",
     "text": [
      "[[14 20]\n",
      " [30 44]]\n"
     ]
    }
   ],
   "source": [
    "#matrix product function -> dot()\n",
    "\n",
    "m1 = [\n",
    "    [1,2],\n",
    "    [3,4]\n",
    "]\n",
    "m2 = [\n",
    "    [2,4],\n",
    "    [6,8]\n",
    "]\n",
    "\n",
    "arr_m1 = np.array(m1)\n",
    "arr_m2 = np.array(m2)\n",
    "\n",
    "#numpy에서 vector와 matrix의 product를 구하기 위해서는 dot()함수를 이용한다.\n",
    "\n",
    "pr_m = np.dot(m1,m2)\n",
    "print(pr_m)"
   ]
  },
  {
   "cell_type": "code",
   "execution_count": 57,
   "metadata": {},
   "outputs": [
    {
     "name": "stdout",
     "output_type": "stream",
     "text": [
      "10\n"
     ]
    }
   ],
   "source": [
    "#numpy에서는 배열간의 연산을 위한 여러 함수들을 제공하는데,\n",
    "#각 배열의 요소를 더하는 함수 -> sum()\n",
    "#각 배열의 요소를 곱하는 함수 -> prod()\n",
    "#이 함수들은 axis 옵션을 사용한다. axis = 0 -> col끼리 더함 / axis = 1 -> row끼리 더함\n",
    "\n",
    "a = np.array([[1,2],[3,4]])\n",
    "s = np.sum(a)\n",
    "\n",
    "print(s)"
   ]
  },
  {
   "cell_type": "code",
   "execution_count": 58,
   "metadata": {},
   "outputs": [
    {
     "name": "stdout",
     "output_type": "stream",
     "text": [
      "[4 6]\n"
     ]
    }
   ],
   "source": [
    "s2 = np.sum(a,axis=0)\n",
    "print(s2)"
   ]
  },
  {
   "cell_type": "code",
   "execution_count": 59,
   "metadata": {},
   "outputs": [
    {
     "name": "stdout",
     "output_type": "stream",
     "text": [
      "[3 7]\n"
     ]
    }
   ],
   "source": [
    "s3 = np.sum(a,axis=1)\n",
    "print(s3)"
   ]
  },
  {
   "cell_type": "code",
   "execution_count": 60,
   "metadata": {},
   "outputs": [
    {
     "name": "stdout",
     "output_type": "stream",
     "text": [
      "24\n"
     ]
    }
   ],
   "source": [
    "p = np.prod(a)\n",
    "print(p)"
   ]
  },
  {
   "cell_type": "code",
   "execution_count": 61,
   "metadata": {},
   "outputs": [
    {
     "name": "stdout",
     "output_type": "stream",
     "text": [
      "[3 8]\n"
     ]
    }
   ],
   "source": [
    "p2 = np.prod(a,axis = 0)\n",
    "print(p2)"
   ]
  },
  {
   "cell_type": "code",
   "execution_count": 62,
   "metadata": {},
   "outputs": [
    {
     "name": "stdout",
     "output_type": "stream",
     "text": [
      "[ 2 12]\n"
     ]
    }
   ],
   "source": [
    "p3=np.prod(a,axis=1)\n",
    "print(p3)"
   ]
  },
  {
   "cell_type": "code",
   "execution_count": 63,
   "metadata": {},
   "outputs": [
    {
     "name": "stdout",
     "output_type": "stream",
     "text": [
      "1.0\n",
      "<class 'numpy.float32'>\n"
     ]
    }
   ],
   "source": [
    "#numpy 자료형 (data type)\n",
    "\n",
    "#int, float, bool(T/F)\n",
    "\n",
    "# 정수형(int:integer)\n",
    "# -int8, int16, int32, int64 (부호가 있는 정수형)\n",
    "# uint(Unsigned integer) : unit8(0~255), unit16(0~65535),unit32, unit 64\n",
    "\n",
    "#실수형(float)\n",
    "#float16, float32, float61\n",
    "\n",
    "#complex\n",
    "#complex64 : 두개의 32비트 부동 소수점으로 표시되는 복소수\n",
    "#complex128 : 두개의 64비트 부동 소수점으로 표시되는 복소수\n",
    "\n",
    "#데이터의 type을 알아보기 위한 dtype\n",
    "\n",
    "X = np.float32(1.0)\n",
    "\n",
    "print(X)\n",
    "print(type(X))"
   ]
  },
  {
   "cell_type": "code",
   "execution_count": 64,
   "metadata": {},
   "outputs": [
    {
     "name": "stdout",
     "output_type": "stream",
     "text": [
      "float32\n"
     ]
    }
   ],
   "source": [
    "print(X.dtype)"
   ]
  },
  {
   "cell_type": "code",
   "execution_count": 65,
   "metadata": {},
   "outputs": [
    {
     "name": "stdout",
     "output_type": "stream",
     "text": [
      "[0 1 2 3 4]\n"
     ]
    }
   ],
   "source": [
    "z = np.arange(5) #arange(값) : 0~값-1 만큼 순서대로 나열\n",
    "print(z)"
   ]
  },
  {
   "cell_type": "code",
   "execution_count": 66,
   "metadata": {},
   "outputs": [
    {
     "name": "stdout",
     "output_type": "stream",
     "text": [
      "[0. 1. 2. 3. 4.]\n"
     ]
    }
   ],
   "source": [
    "zf = np.arange(5,dtype='f')\n",
    "print(zf)"
   ]
  },
  {
   "cell_type": "code",
   "execution_count": 67,
   "metadata": {},
   "outputs": [
    {
     "name": "stdout",
     "output_type": "stream",
     "text": [
      "[1. 2. 3.] float32\n"
     ]
    }
   ],
   "source": [
    "zf2 = np.array([1,2,3],dtype='f')\n",
    "print(zf2,zf2.dtype)"
   ]
  },
  {
   "cell_type": "code",
   "execution_count": 68,
   "metadata": {},
   "outputs": [
    {
     "name": "stdout",
     "output_type": "stream",
     "text": [
      "[1 2 3] int8\n"
     ]
    }
   ],
   "source": [
    "zi2 = np.int8(zf2)\n",
    "print(zi2,zi2.dtype)"
   ]
  },
  {
   "cell_type": "code",
   "execution_count": 69,
   "metadata": {},
   "outputs": [
    {
     "name": "stdout",
     "output_type": "stream",
     "text": [
      "[0 1 2 3 4 5 6 7 8 9]\n"
     ]
    }
   ],
   "source": [
    "bb = np.arange(10)\n",
    "print(bb)"
   ]
  },
  {
   "cell_type": "code",
   "execution_count": 70,
   "metadata": {},
   "outputs": [
    {
     "name": "stdout",
     "output_type": "stream",
     "text": [
      "[3 4 5 6 7 8 9]\n"
     ]
    }
   ],
   "source": [
    "cc=np.arange(3,10) #np.arange(시작점,끝점)\n",
    "print(cc)"
   ]
  },
  {
   "cell_type": "code",
   "execution_count": 71,
   "metadata": {},
   "outputs": [
    {
     "name": "stdout",
     "output_type": "stream",
     "text": [
      "[2]\n"
     ]
    }
   ],
   "source": [
    "dd = np.arange(2,3)\n",
    "print(dd)"
   ]
  },
  {
   "cell_type": "code",
   "execution_count": 72,
   "metadata": {},
   "outputs": [
    {
     "name": "stdout",
     "output_type": "stream",
     "text": [
      "[2.  2.1 2.2 2.3 2.4 2.5 2.6 2.7 2.8 2.9]\n"
     ]
    }
   ],
   "source": [
    "dd2 = np.arange(2,3,0.1)\n",
    "print(dd2)"
   ]
  },
  {
   "cell_type": "code",
   "execution_count": 73,
   "metadata": {},
   "outputs": [
    {
     "name": "stdout",
     "output_type": "stream",
     "text": [
      "[[10 20]\n",
      " [30 40]]\n"
     ]
    }
   ],
   "source": [
    "# numpy 브로드캐스트 : shape가 다른 것끼리 연산\n",
    "\n",
    "a=np.array([[1,2],[3,4]])\n",
    "b=10\n",
    "c=a*b\n",
    "print(c)"
   ]
  },
  {
   "cell_type": "code",
   "execution_count": 74,
   "metadata": {},
   "outputs": [
    {
     "name": "stdout",
     "output_type": "stream",
     "text": [
      "[[10 40]\n",
      " [30 80]]\n"
     ]
    }
   ],
   "source": [
    "x=np.array([[1,2],[3,4]])\n",
    "y=np.array([[10,20]])\n",
    "z=x*y\n",
    "print(z)"
   ]
  },
  {
   "cell_type": "code",
   "execution_count": 75,
   "metadata": {},
   "outputs": [
    {
     "name": "stdout",
     "output_type": "stream",
     "text": [
      "[[11 21]\n",
      " [34 43]\n",
      " [ 0  9]]\n"
     ]
    }
   ],
   "source": [
    "x=np.array([[11,21],[34,43],[0,9]])\n",
    "print(x)"
   ]
  },
  {
   "cell_type": "code",
   "execution_count": 76,
   "metadata": {},
   "outputs": [
    {
     "data": {
      "text/plain": [
       "21"
      ]
     },
     "execution_count": 76,
     "metadata": {},
     "output_type": "execute_result"
    }
   ],
   "source": [
    "x[0,1]"
   ]
  },
  {
   "cell_type": "code",
   "execution_count": 77,
   "metadata": {},
   "outputs": [
    {
     "name": "stdout",
     "output_type": "stream",
     "text": [
      "[11 21]\n",
      "[34 43]\n",
      "[0 9]\n"
     ]
    }
   ],
   "source": [
    "for row in x :\n",
    "    print(row)"
   ]
  },
  {
   "cell_type": "code",
   "execution_count": 78,
   "metadata": {},
   "outputs": [
    {
     "name": "stdout",
     "output_type": "stream",
     "text": [
      "[11 21 34 43  0  9]\n"
     ]
    }
   ],
   "source": [
    "#2차원 배열을 1차원 배열로 변환(평탄화) : flatten()\n",
    "\n",
    "x = x.flatten()\n",
    "print(x)"
   ]
  },
  {
   "cell_type": "code",
   "execution_count": 79,
   "metadata": {},
   "outputs": [
    {
     "name": "stdout",
     "output_type": "stream",
     "text": [
      "[21 43  9]\n"
     ]
    }
   ],
   "source": [
    "print(x[np.array([1,3,5])]) #1차원 배열에서 각 요소만 뽑고 싶을 때"
   ]
  },
  {
   "cell_type": "code",
   "execution_count": 80,
   "metadata": {},
   "outputs": [
    {
     "name": "stdout",
     "output_type": "stream",
     "text": [
      "[34 43]\n",
      "[False False  True  True False False]\n"
     ]
    }
   ],
   "source": [
    "print(x[x>25]) #x>25인 원소만 나타냄\n",
    "\n",
    "print(x>25) #부울린 형식으로 출력, *넘파이 배열에 부호를 이용하면 bool배열로 나타남"
   ]
  }
 ],
 "metadata": {
  "kernelspec": {
   "display_name": "Python 3",
   "language": "python",
   "name": "python3"
  },
  "language_info": {
   "codemirror_mode": {
    "name": "ipython",
    "version": 3
   },
   "file_extension": ".py",
   "mimetype": "text/x-python",
   "name": "python",
   "nbconvert_exporter": "python",
   "pygments_lexer": "ipython3",
   "version": "3.7.4"
  }
 },
 "nbformat": 4,
 "nbformat_minor": 2
}
