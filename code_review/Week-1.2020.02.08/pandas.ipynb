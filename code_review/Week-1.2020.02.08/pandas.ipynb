{
 "cells": [
  {
   "cell_type": "code",
   "execution_count": 64,
   "metadata": {},
   "outputs": [
    {
     "name": "stdout",
     "output_type": "stream",
     "text": [
      "a     사과\n",
      "b    바나나\n",
      "c     당근\n",
      "dtype: object\n",
      "사과\n"
     ]
    }
   ],
   "source": [
    "#시리즈 함수\n",
    "\n",
    "import pandas as pd\n",
    "\n",
    "array = pd.Series(['사과', '바나나', '당근'], index=['a', 'b', 'c'])\n",
    "\n",
    "print(array)\n",
    "print(array['a'])\n"
   ]
  },
  {
   "cell_type": "code",
   "execution_count": 65,
   "metadata": {},
   "outputs": [
    {
     "name": "stdout",
     "output_type": "stream",
     "text": [
      "사과\n"
     ]
    }
   ],
   "source": [
    "# 딕셔너리 자료형 -> 시리즈로 변환\n",
    "\n",
    "import pandas as pd\n",
    "\n",
    "data = {\n",
    "    'a': '사과',\n",
    "    'b': '바나나',\n",
    "    'c': '당근'\n",
    "}\n",
    "\n",
    "# Dict 자료형을 Series로 바꾸기\n",
    "array = pd.Series(data)\n",
    "print(array['a'])"
   ]
  },
  {
   "cell_type": "code",
   "execution_count": 66,
   "metadata": {},
   "outputs": [
    {
     "name": "stdout",
     "output_type": "stream",
     "text": [
      "       word  frequency\n",
      "Apple    사과          3\n",
      "Banana  바나나          5\n",
      "Carrot   당근          7\n"
     ]
    }
   ],
   "source": [
    "# 데이터프레임 함수 사용\n",
    "\n",
    "import pandas as pd\n",
    "\n",
    "word_dict = {\n",
    "    'Apple': '사과',\n",
    "    'Banana': '바나나',\n",
    "    'Carrot': '당근'\n",
    "}\n",
    "\n",
    "frequency_dict = {\n",
    "    'Apple': 3,\n",
    "    'Banana': 5,\n",
    "    'Carrot': 7\n",
    "}\n",
    "\n",
    "word = pd.Series(word_dict)\n",
    "frequency = pd.Series(frequency_dict)\n",
    "\n",
    "# 이름(Name): 값(Values)\n",
    "summary = pd.DataFrame({\n",
    "    'word': word,\n",
    "    'frequency': frequency\n",
    "})\n",
    "\n",
    "print(summary)"
   ]
  },
  {
   "cell_type": "code",
   "execution_count": 67,
   "metadata": {},
   "outputs": [
    {
     "name": "stdout",
     "output_type": "stream",
     "text": [
      "       word  frequency  importance  score\n",
      "Apple    사과          3           3      9\n",
      "Banana  바나나          5           2     10\n",
      "Carrot   당근          7           1      7\n"
     ]
    }
   ],
   "source": [
    "# 시리즈 연산\n",
    "\n",
    "import pandas as pd\n",
    "\n",
    "word_dict = {\n",
    "    'Apple': '사과',\n",
    "    'Banana': '바나나',\n",
    "    'Carrot': '당근'\n",
    "}\n",
    "\n",
    "frequency_dict = {\n",
    "    'Apple': 3,\n",
    "    'Banana': 5,\n",
    "    'Carrot': 7\n",
    "}\n",
    "\n",
    "importance_dict = {\n",
    "    'Apple': 3,\n",
    "    'Banana': 2,\n",
    "    'Carrot': 1\n",
    "}\n",
    "\n",
    "word = pd.Series(word_dict)\n",
    "frequency = pd.Series(frequency_dict)\n",
    "importance = pd.Series(importance_dict)\n",
    "\n",
    "summary = pd.DataFrame({\n",
    "    'word': word,\n",
    "    'frequency': frequency,\n",
    "    'importance': importance\n",
    "})\n",
    "\n",
    "score = summary['frequency'] * summary['importance']\n",
    "summary['score'] = score\n",
    "\n",
    "print(summary)"
   ]
  },
  {
   "cell_type": "code",
   "execution_count": 68,
   "metadata": {},
   "outputs": [
    {
     "name": "stdout",
     "output_type": "stream",
     "text": [
      "       word  frequency  importance\n",
      "Apple    사과          3           3\n",
      "Banana  바나나          5           2\n",
      "Carrot   당근          7           1\n",
      "Durian  두리안          2           1\n",
      "        importance\n",
      "Banana           2\n",
      "Carrot           1\n",
      "        importance\n",
      "Banana           2\n",
      "Carrot           1\n"
     ]
    }
   ],
   "source": [
    "# 데이터프레임 슬라이싱\n",
    "\n",
    "import pandas as pd\n",
    "\n",
    "word_dict = {\n",
    "    'Apple': '사과',\n",
    "    'Banana': '바나나',\n",
    "    'Carrot': '당근',\n",
    "    'Durian': '두리안'\n",
    "}\n",
    "\n",
    "frequency_dict = {\n",
    "    'Apple': 3,\n",
    "    'Banana': 5,\n",
    "    'Carrot': 7,\n",
    "    'Durian': 2\n",
    "}\n",
    "\n",
    "importance_dict = {\n",
    "    'Apple': 3,\n",
    "    'Banana': 2,\n",
    "    'Carrot': 1,\n",
    "    'Durian': 1\n",
    "}\n",
    "\n",
    "word = pd.Series(word_dict)\n",
    "frequency = pd.Series(frequency_dict)\n",
    "importance = pd.Series(importance_dict)\n",
    "\n",
    "summary = pd.DataFrame({\n",
    "    'word': word,\n",
    "    'frequency': frequency,\n",
    "    'importance': importance\n",
    "})\n",
    "\n",
    "print(summary)\n",
    "\n",
    "# 이름을 기준으로 슬라이싱\n",
    "print(summary.loc['Banana':'Carrot', 'importance':])\n",
    "\n",
    "# 인덱스를 기준으로 슬라이싱\n",
    "print(summary.iloc[1:3, 2:])"
   ]
  },
  {
   "cell_type": "code",
   "execution_count": 69,
   "metadata": {},
   "outputs": [
    {
     "name": "stdout",
     "output_type": "stream",
     "text": [
      "       word  frequency  importance\n",
      "Apple    사과          3           3\n",
      "Banana  바나나          5           2\n",
      "Carrot   당근          7           1\n",
      "Durian  두리안          2           1\n",
      "            word  frequency  importance\n",
      "Apple         사과          3           5\n",
      "Banana       바나나          5           2\n",
      "Carrot        당근          7           1\n",
      "Durian       두리안          2           1\n",
      "Elderberry  엘더베리          5           3\n"
     ]
    }
   ],
   "source": [
    "# 데이터 프레임의 연산\n",
    "\n",
    "\n",
    "import pandas as pd\n",
    "\n",
    "word_dict = {\n",
    "    'Apple': '사과',\n",
    "    'Banana': '바나나',\n",
    "    'Carrot': '당근',\n",
    "    'Durian': '두리안'\n",
    "}\n",
    "\n",
    "frequency_dict = {\n",
    "    'Apple': 3,\n",
    "    'Banana': 5,\n",
    "    'Carrot': 7,\n",
    "    'Durian': 2\n",
    "}\n",
    "\n",
    "importance_dict = {\n",
    "    'Apple': 3,\n",
    "    'Banana': 2,\n",
    "    'Carrot': 1,\n",
    "    'Durian': 1\n",
    "}\n",
    "\n",
    "word = pd.Series(word_dict)\n",
    "frequency = pd.Series(frequency_dict)\n",
    "importance = pd.Series(importance_dict)\n",
    "\n",
    "summary = pd.DataFrame({\n",
    "    'word': word,\n",
    "    'frequency': frequency,\n",
    "    'importance': importance\n",
    "})\n",
    "\n",
    "print(summary)\n",
    "\n",
    "summary.loc['Apple', 'importance'] = 5 # 데이터의 변경\n",
    "summary.loc['Elderberry'] = ['엘더베리', 5, 3] # 새 데이터 삽입\n",
    "\n",
    "print(summary)"
   ]
  },
  {
   "cell_type": "code",
   "execution_count": 70,
   "metadata": {},
   "outputs": [
    {
     "name": "stdout",
     "output_type": "stream",
     "text": [
      "       word  frequency  importance\n",
      "Apple    사과        3.0           1\n",
      "Banana  바나나        1.0           1\n",
      "Cherry   체리        NaN           3\n",
      "Tomato  토마토        4.0           2\n"
     ]
    }
   ],
   "source": [
    "# 데이터프레임 인덱싱, 컬럼명 설정\n",
    "\n",
    "import pandas as pd\n",
    "import numpy as np\n",
    "\n",
    "word_dict = {\n",
    "    'Apple' : \"사과\",\n",
    "    'Banana' : '바나나',\n",
    "    'Cherry' : '체리',\n",
    "    'Tomato' : '토마토'\n",
    "}\n",
    "\n",
    "frequency_dict = {\n",
    "    'Apple' : 3,\n",
    "    'Banana' : 1,\n",
    "    'Cherry' : np.nan,\n",
    "    'Tomato' : 4\n",
    "}\n",
    "\n",
    "importance_dict ={\n",
    "     'Apple' : 1,\n",
    "    'Banana' : 1,\n",
    "    'Cherry' : 3,\n",
    "    'Tomato' : 2\n",
    "}\n",
    "\n",
    "word = pd.Series(word_dict)\n",
    "frequency = pd.Series(frequency_dict)\n",
    "importance = pd.Series(importance_dict)\n",
    "\n",
    "summary = pd.DataFrame({\n",
    "    'word':word,\n",
    "    'frequency':frequency,\n",
    "    'importance' : importance\n",
    "})\n",
    "\n",
    "print(summary)"
   ]
  },
  {
   "cell_type": "code",
   "execution_count": 71,
   "metadata": {},
   "outputs": [
    {
     "name": "stdout",
     "output_type": "stream",
     "text": [
      "        word  frequency  importance\n",
      "Apple   True       True        True\n",
      "Banana  True       True        True\n",
      "Cherry  True      False        True\n",
      "Tomato  True       True        True\n",
      "         word  frequency  importance\n",
      "Apple   False      False       False\n",
      "Banana  False      False       False\n",
      "Cherry  False       True       False\n",
      "Tomato  False      False       False\n"
     ]
    }
   ],
   "source": [
    "# 데이터프레임 부울린 형식으로 표현\n",
    "print(summary.notnull())\n",
    "print(summary.isnull())"
   ]
  },
  {
   "cell_type": "code",
   "execution_count": 72,
   "metadata": {},
   "outputs": [
    {
     "name": "stdout",
     "output_type": "stream",
     "text": [
      "       word frequency  importance\n",
      "Apple    사과         3           1\n",
      "Banana  바나나         1           1\n",
      "Cherry   체리    데이터 없음           3\n",
      "Tomato  토마토         4           2\n"
     ]
    }
   ],
   "source": [
    "summary['frequency']=summary['frequency'].fillna('데이터 없음') # 데이터 없는 값을 원하는 문자로 변경 가능\n",
    "print(summary)"
   ]
  },
  {
   "cell_type": "code",
   "execution_count": 73,
   "metadata": {},
   "outputs": [
    {
     "name": "stdout",
     "output_type": "stream",
     "text": [
      "A    1.0\n",
      "B    6.0\n",
      "C    8.0\n",
      "D    6.0\n",
      "dtype: float64\n"
     ]
    }
   ],
   "source": [
    "#데이터 프레임 자료형의 연산\n",
    "\n",
    "array1 = pd.Series([1,2,3],index=['A','B','C'])\n",
    "array2 = pd.Series([4,5,6],index=['B','C','D'])\n",
    "\n",
    "array = array1.add(array2, fill_value=0) #fill_value를 안넣으면 null값으로 나온다.\n",
    "print(array)"
   ]
  },
  {
   "cell_type": "code",
   "execution_count": 74,
   "metadata": {},
   "outputs": [
    {
     "name": "stdout",
     "output_type": "stream",
     "text": [
      "     0    1    2\n",
      "A  1.0  2.0  NaN\n",
      "B  4.0  6.0  3.0\n",
      "C  4.0  5.0  6.0\n",
      "D  7.0  8.0  9.0\n",
      "컬럼 1의 합: 21.0\n",
      "0    16.0\n",
      "1    21.0\n",
      "2    18.0\n",
      "dtype: float64\n"
     ]
    }
   ],
   "source": [
    "#데이터 프레임 집계 함수\n",
    "\n",
    "array3 = pd.DataFrame([[1,2],[3,4]],index=['A','B'])\n",
    "array4 = pd.DataFrame([[1,2,3],[4,5,6],[7,8,9]],index=['B','C','D'])\n",
    "\n",
    "array0 = array3.add(array4, fill_value=0)\n",
    "print(array0)\n",
    "print(\"컬럼 1의 합:\",array0[1].sum())\n",
    "print(array0.sum()) # 널값은 기본적으로 0으로 처리\n"
   ]
  },
  {
   "cell_type": "code",
   "execution_count": 75,
   "metadata": {
    "scrolled": true
   },
   "outputs": [
    {
     "name": "stdout",
     "output_type": "stream",
     "text": [
      "       word  frequency  importance\n",
      "Apple    사과          3           1\n",
      "Banana  바나나          1           1\n",
      "Cherry   체리          5           3\n",
      "Tomato  토마토          4           2\n",
      "       word  frequency  importance\n",
      "Cherry   체리          5           3\n",
      "Tomato  토마토          4           2\n",
      "Apple    사과          3           1\n",
      "Banana  바나나          1           1\n"
     ]
    }
   ],
   "source": [
    "#데이터 프레임 정렬함수\n",
    "word_dict = {\n",
    "    'Apple' : \"사과\",\n",
    "    'Banana' : '바나나',\n",
    "    'Cherry' : '체리',\n",
    "    'Tomato' : '토마토'\n",
    "}\n",
    "\n",
    "frequency_dict = {\n",
    "    'Apple' : 3,\n",
    "    'Banana' : 1,\n",
    "    'Cherry' : 5,\n",
    "    'Tomato' : 4\n",
    "}\n",
    "\n",
    "importance_dict ={\n",
    "     'Apple' : 1,\n",
    "    'Banana' : 1,\n",
    "    'Cherry' : 3,\n",
    "    'Tomato' : 2\n",
    "}\n",
    "\n",
    "word = pd.Series(word_dict)\n",
    "frequency = pd.Series(frequency_dict)\n",
    "importance = pd.Series(importance_dict)\n",
    "\n",
    "summary = pd.DataFrame({\n",
    "    'word':word,\n",
    "    'frequency':frequency,\n",
    "    'importance' : importance\n",
    "})\n",
    "\n",
    "print(summary)\n",
    "summary = summary.sort_values('frequency',ascending=False)\n",
    "print(summary)"
   ]
  },
  {
   "cell_type": "code",
   "execution_count": 76,
   "metadata": {},
   "outputs": [
    {
     "name": "stdout",
     "output_type": "stream",
     "text": [
      "   A  B\n",
      "0  3  9\n",
      "1  7  8\n",
      "0     True\n",
      "1    False\n",
      "Name: A, dtype: bool\n",
      "Empty DataFrame\n",
      "Columns: [A, B]\n",
      "Index: []\n"
     ]
    }
   ],
   "source": [
    "# 데이터 프레임의 마스킹\n",
    "\n",
    "import numpy as np\n",
    "import pandas as pd\n",
    "\n",
    "df = pd.DataFrame(np.random.randint(1, 10, (2, 2)), index=[0, 1], columns=[\"A\", \"B\"])\n",
    "# 데이터 프레임 출력하기\n",
    "print(df)\n",
    "# 컬럼 A의 각 원소가 5보다 작거나 같은지 출력 / 마스킹연산\n",
    "print(df[\"A\"] <= 5)\n",
    "# 쿼리문 작성을 통해 컬럼 A의 원소가 5보다 작고, 컬럼 B의 원소가 8보다 작은 행 추출\n",
    "print(df.query(\"A <= 5 and B <= 8\"))"
   ]
  },
  {
   "cell_type": "code",
   "execution_count": 77,
   "metadata": {},
   "outputs": [
    {
     "name": "stdout",
     "output_type": "stream",
     "text": [
      "   A  B  C  D\n",
      "0  1  2  3  4\n",
      "1  1  2  3  4\n",
      "   A  B  C  D\n",
      "0  2  3  4  5\n",
      "1  2  3  4  5\n",
      "   A  B  C  D\n",
      "0  3  4  5  6\n",
      "1  3  4  5  6\n",
      "-------------------------------------------------------------\n",
      "        A       B       C       D\n",
      "0   Apple   Apple  Carrot  Banana\n",
      "1  Durian  Banana   Apple  Carrot\n",
      "         A        B        C       D\n",
      "0  Airport  Airport   Carrot  Banana\n",
      "1   Durian   Banana  Airport  Carrot\n"
     ]
    }
   ],
   "source": [
    "# 데이터 프레임의 개별 연산 ①\n",
    "\n",
    "import pandas as pd\n",
    "\n",
    "df = pd.DataFrame([[1, 2, 3, 4], [1, 2, 3, 4]], index=[0, 1], columns=[\"A\", \"B\", \"C\", \"D\"])\n",
    "print(df)\n",
    "\n",
    "df = df.apply(lambda x: x + 1) # 각 원소에 1씩 증가시키고 싶을 때\n",
    "print(df)\n",
    "\n",
    "#일반적인 함수를 이용해 각 원소를 1씩 증가시키는 경우\n",
    "def addOne(x):\n",
    "  return x + 1\n",
    "  \n",
    "df = df.apply(addOne)\n",
    "print(df)\n",
    "\n",
    "print(\"-------------------------------------------------------------\")\n",
    "\n",
    "# 데이터 프레임의 개별 연산 ② / 특정 단어 변환\n",
    "\n",
    "import pandas as pd\n",
    "\n",
    "df = pd.DataFrame([\n",
    "  ['Apple', 'Apple', 'Carrot', 'Banana'],\n",
    "  ['Durian', 'Banana', 'Apple', 'Carrot']],\n",
    "  index=[0, 1],\n",
    "  columns=[\"A\", \"B\", \"C\", \"D\"])\n",
    "\n",
    "print(df)\n",
    "df = df.replace({\"Apple\": \"Airport\"})\n",
    "print(df)"
   ]
  },
  {
   "cell_type": "code",
   "execution_count": 78,
   "metadata": {},
   "outputs": [
    {
     "name": "stdout",
     "output_type": "stream",
     "text": [
      "     Name  Frequency   Type\n",
      "0   Apple          7  Fruit\n",
      "1  Banana          3  Fruit\n",
      "2    Beef          5   Meal\n",
      "3  Kimchi          4   Meal\n",
      "       Frequency\n",
      "Type            \n",
      "Fruit         10\n",
      "Meal           9\n",
      "-------------------------------------------------------------\n",
      "     Name  Frequency  Importance   Type\n",
      "0   Apple          7           5  Fruit\n",
      "1  Banana          3           6  Fruit\n",
      "2    Beef          5           2   Meal\n",
      "3  Kimchi          4           8   Meal\n",
      "      Frequency             Importance            \n",
      "            min max average        min max average\n",
      "Type                                              \n",
      "Fruit         3   7     5.0          5   6     5.5\n",
      "Meal          4   5     4.5          2   8     5.0\n",
      "-------------------------------------------------------------\n",
      "     Name  Frequency  Importance   Type\n",
      "0   Apple          7           5  Fruit\n",
      "1  Banana          3           6  Fruit\n",
      "2    Beef          5           2   Meal\n",
      "3  Kimchi          4           8   Meal\n",
      "     Name  Frequency  Importance   Type\n",
      "0   Apple          7           5  Fruit\n",
      "1  Banana          3           6  Fruit\n",
      "-------------------------------------------------------------\n",
      "     Name  Frequency  Importance   Type\n",
      "0   Apple          7           5  Fruit\n",
      "1  Banana          3           6  Fruit\n",
      "-------------------------------------------------------------\n",
      "     Name  Frequency  Importance   Type  Gap\n",
      "0   Apple          7           5  Fruit  2.0\n",
      "1  Banana          3           6  Fruit -2.0\n",
      "2    Beef          5           2   Meal  0.5\n",
      "3  Kimchi          4           8   Meal -0.5\n"
     ]
    }
   ],
   "source": [
    "# 데이터 프레임의 그룹화 ①\n",
    "\n",
    "\n",
    "import pandas as pd\n",
    "\n",
    "df = pd.DataFrame([\n",
    "  ['Apple', 7, 'Fruit'],\n",
    "  ['Banana', 3, 'Fruit'],\n",
    "  ['Beef', 5, 'Meal'],\n",
    "  ['Kimchi', 4, 'Meal']],\n",
    "  columns=[\"Name\", \"Frequency\", \"Type\"])\n",
    "\n",
    "print(df)\n",
    "print(df.groupby(['Type']).sum())\n",
    "\n",
    "print(\"-------------------------------------------------------------\")\n",
    "\n",
    "# 데이터 프레임의 그룹화 ②\n",
    "\n",
    "import numpy as np\n",
    "import pandas as pd\n",
    "\n",
    "df = pd.DataFrame([\n",
    "  ['Apple', 7, 5, 'Fruit'],\n",
    "  ['Banana', 3, 6, 'Fruit'],\n",
    "  ['Beef', 5, 2, 'Meal'],\n",
    "  ['Kimchi', 4, 8, 'Meal']],\n",
    "  columns=[\"Name\", \"Frequency\", \"Importance\", \"Type\"])\n",
    "\n",
    "print(df)\n",
    "print(df.groupby([\"Type\"]).aggregate([min, max, np.average]))\n",
    "\n",
    "print(\"-------------------------------------------------------------\")\n",
    "\n",
    "# 데이터 프레임의 그룹화 ③\n",
    "\n",
    "\n",
    "import pandas as pd\n",
    "\n",
    "df = pd.DataFrame([\n",
    "  ['Apple', 7, 5, 'Fruit'],\n",
    "  ['Banana', 3, 6, 'Fruit'],\n",
    "  ['Beef', 5, 2, 'Meal'],\n",
    "  ['Kimchi', 4, 8, 'Meal']],\n",
    "  columns=[\"Name\", \"Frequency\", \"Importance\", \"Type\"])\n",
    "\n",
    "\n",
    "def my_filter(data):\n",
    "  return data[\"Frequency\"].mean() >= 5  ### 함수활용하는 부분이 좀 헷갈립니다 ㅜㅜ 알려주시면 감사하겠습니다.\n",
    "\n",
    "\n",
    "print(df)\n",
    "df = df.groupby(\"Type\").filter(my_filter)\n",
    "print(df)\n",
    "\n",
    "print(\"-------------------------------------------------------------\")\n",
    "\n",
    "# 데이터 프레임의 그룹화 ④\n",
    "\n",
    "\n",
    "import pandas as pd\n",
    "\n",
    "df = pd.DataFrame([\n",
    "  ['Apple', 7, 5, 'Fruit'],\n",
    "  ['Banana', 3, 6, 'Fruit'],\n",
    "  ['Beef', 5, 2, 'Meal'],\n",
    "  ['Kimchi', 4, 8, 'Meal']],\n",
    "  columns=[\"Name\", \"Frequency\", \"Importance\", \"Type\"])\n",
    "\n",
    "df = df.groupby(\"Type\").get_group(\"Fruit\")\n",
    "print(df)\n",
    "\n",
    "print(\"-------------------------------------------------------------\")\n",
    "\n",
    "# 데이터 프레임의 그룹화 ⑤\n",
    "\n",
    "import pandas as pd\n",
    "\n",
    "df = pd.DataFrame([\n",
    "  ['Apple', 7, 5, 'Fruit'],\n",
    "  ['Banana', 3, 6, 'Fruit'],\n",
    "  ['Beef', 5, 2, 'Meal'],\n",
    "  ['Kimchi', 4, 8, 'Meal']],\n",
    "  columns=[\"Name\", \"Frequency\", \"Importance\", \"Type\"])\n",
    "\n",
    "df[\"Gap\"] = df.groupby(\"Type\")[\"Frequency\"].apply(lambda x: x - x.mean())\n",
    "print(df)"
   ]
  },
  {
   "cell_type": "code",
   "execution_count": 79,
   "metadata": {},
   "outputs": [
    {
     "name": "stdout",
     "output_type": "stream",
     "text": [
      "       1회  2회  3회  4회\n",
      "1차 공격   7   4   6   6\n",
      "   수비   2   1   3   6\n",
      "2차 공격   1   6   5   8\n",
      "   수비   8   6   5   3\n",
      "    1회  2회\n",
      "공격   1   6\n",
      "수비   8   6\n",
      "    1회  2회\n",
      "공격   1   6\n",
      "수비   8   6\n",
      "1회    1\n",
      "3회    5\n",
      "2회    6\n",
      "Name: (2차, 공격), dtype: int32\n",
      "       1회  2회\n",
      "1차 공격   7   4\n",
      "   수비   2   1\n",
      "2차 공격   1   6\n",
      "   수비   8   6\n",
      "       1회  2회  3회  4회\n",
      "1차 공격   7   4   6   6\n",
      "   수비   2   1   3   6\n",
      "2차 공격   1   6   5   8\n",
      "   수비   8   6   5   3\n",
      "       1회  2회\n",
      "2차 공격   1   6\n",
      "   수비   8   6\n"
     ]
    }
   ],
   "source": [
    "# 데이터 프레임의 다중화\n",
    "\n",
    "import numpy as np\n",
    "import pandas as pd\n",
    "\n",
    "df = pd.DataFrame(\n",
    "  np.random.randint(1, 10, (4, 4)),\n",
    "  index=[['1차', '1차', '2차', '2차'], ['공격', '수비', '공격', '수비']],\n",
    "  columns=['1회', '2회', '3회', '4회']\n",
    ")\n",
    "\n",
    "print(df)\n",
    "print(df[[\"1회\", \"2회\"]].loc[\"2차\"])\n",
    "print(df.loc[\"2차\",[\"1회\",\"2회\"]])\n",
    "print(df[[\"1회\",\"3회\",\"2회\"]].loc[\"2차\",\"공격\"])\n",
    "print(df.loc[:,['1회', '2회']])\n",
    "\n",
    "#iloc 이용\n",
    "\n",
    "print(df.iloc[:,0:])\n",
    "print(df.iloc[2:,0:2])"
   ]
  },
  {
   "cell_type": "code",
   "execution_count": 80,
   "metadata": {},
   "outputs": [
    {
     "name": "stdout",
     "output_type": "stream",
     "text": [
      "      Name  Frequency  Importance   Type\n",
      "0    Apple          7           5  Fruit\n",
      "1   Banana          3           6  Fruit\n",
      "2  Coconut          2           6  Fruit\n",
      "3     Rice          8           2   Meal\n",
      "4     Beef          5           2   Meal\n",
      "5   Kimchi          4           8   Meal\n",
      "Type        Fruit  Meal\n",
      "Importance             \n",
      "2             NaN   8.0\n",
      "5             7.0   NaN\n",
      "6             3.0   NaN\n",
      "8             NaN   4.0\n"
     ]
    }
   ],
   "source": [
    "# 피벗 테이블의 기초\n",
    "\n",
    "\n",
    "import numpy as np\n",
    "import pandas as pd\n",
    "\n",
    "df = pd.DataFrame([\n",
    "    ['Apple', 7, 5, 'Fruit'],\n",
    "    ['Banana', 3, 6, 'Fruit'],\n",
    "    ['Coconut', 2, 6, 'Fruit'],\n",
    "    ['Rice', 8, 2, 'Meal'],\n",
    "    ['Beef', 5, 2, 'Meal'],\n",
    "    ['Kimchi', 4, 8, 'Meal']],\n",
    "   columns=[\"Name\", \"Frequency\", \"Importance\", \"Type\"])\n",
    "\n",
    "print(df)\n",
    "df = df.pivot_table(\n",
    "    index=\"Importance\", columns=\"Type\", values=\"Frequency\",\n",
    "    aggfunc=np.max\n",
    ")\n",
    "print(df)"
   ]
  },
  {
   "cell_type": "code",
   "execution_count": null,
   "metadata": {},
   "outputs": [],
   "source": []
  }
 ],
 "metadata": {
  "kernelspec": {
   "display_name": "Python 3",
   "language": "python",
   "name": "python3"
  },
  "language_info": {
   "codemirror_mode": {
    "name": "ipython",
    "version": 3
   },
   "file_extension": ".py",
   "mimetype": "text/x-python",
   "name": "python",
   "nbconvert_exporter": "python",
   "pygments_lexer": "ipython3",
   "version": "3.7.4"
  }
 },
 "nbformat": 4,
 "nbformat_minor": 2
}
