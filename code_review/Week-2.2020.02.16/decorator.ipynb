{
 "cells": [
  {
   "cell_type": "markdown",
   "metadata": {},
   "source": [
    "# Decorator\n",
    "\n",
    "- 대상 함수를 wrapping 하고, 이 wrapping 된 함수의 앞뒤에 추가적으로 꾸며질 구문들을 정의해 쉽게 재사용 가능하게 함"
   ]
  },
  {
   "cell_type": "code",
   "execution_count": 4,
   "metadata": {},
   "outputs": [],
   "source": [
    "@decorator_\n",
    "def function():\n",
    "    print(\"what is decorator?\")"
   ]
  },
  {
   "cell_type": "code",
   "execution_count": 6,
   "metadata": {},
   "outputs": [],
   "source": [
    "import datetime"
   ]
  },
  {
   "cell_type": "markdown",
   "metadata": {},
   "source": [
    "- 아래와 같은 함수가 있다고 하자"
   ]
  },
  {
   "cell_type": "code",
   "execution_count": 8,
   "metadata": {},
   "outputs": [],
   "source": [
    "def main_function():\n",
    "     print(datetime.datetime.now())\n",
    "     print(\"MAIN FUNCTION START\")\n",
    "     print(datetime.datetime.now())"
   ]
  },
  {
   "cell_type": "markdown",
   "metadata": {},
   "source": [
    "- 각 함수마다 문장이 출력되기 전,후에 시간을 출력하고 싶다면 아래와 같이 해야 할 것이다"
   ]
  },
  {
   "cell_type": "code",
   "execution_count": 20,
   "metadata": {},
   "outputs": [],
   "source": [
    "def main_function_1():\n",
    "     print(datetime.datetime.now())\n",
    "     print(\"MAIN FUNCTION 1 START\")\n",
    "     print(datetime.datetime.now())\n",
    "     print(\"=\"*30)\n",
    "        \n",
    "def main_function_2():\n",
    "     print(datetime.datetime.now())\n",
    "     print(\"MAIN FUNCTION 2 START\")\n",
    "     print(datetime.datetime.now())\n",
    "     print(\"=\"*30)\n",
    "    \n",
    "def main_function_3():\n",
    "     print(datetime.datetime.now())\n",
    "     print(\"MAIN FUNCTION 3 START\")\n",
    "     print(datetime.datetime.now())\n",
    "     print(\"=\"*30)\n",
    "    \n",
    "def main_function_4():\n",
    "     print(datetime.datetime.now())\n",
    "     print(\"MAIN FUNCTION 4 START\")\n",
    "     print(datetime.datetime.now())\n",
    "     print(\"=\"*30)"
   ]
  },
  {
   "cell_type": "markdown",
   "metadata": {},
   "source": [
    "- 이럴 경우 decorator를 써서 wrapping된 함수의 앞 뒤를 꾸며준닼ㅁ"
   ]
  },
  {
   "cell_type": "code",
   "execution_count": 30,
   "metadata": {},
   "outputs": [],
   "source": [
    "def datetime_decorator(original_func):\n",
    "        def wrapping_func():\n",
    "                print(datetime.datetime.now())\n",
    "                original_func()\n",
    "                print(datetime.datetime.now())\n",
    "                print(\"=\"*30)\n",
    "        return wrapping_func"
   ]
  },
  {
   "cell_type": "code",
   "execution_count": 31,
   "metadata": {},
   "outputs": [],
   "source": [
    "@datetime_decorator\n",
    "def main_function_1():\n",
    "     print(\"MAIN FUNCTION 1 START\")\n",
    "\n",
    "@datetime_decorator\n",
    "def main_function_2():\n",
    "     print(\"MAIN FUNCTION 2 START\")\n",
    "\n",
    "@datetime_decorator\n",
    "def main_function_3():\n",
    "     print(\"MAIN FUNCTION 3 START\")\n",
    "\n",
    "@datetime_decorator\n",
    "def main_function_4():\n",
    "     print(\"MAIN FUNCTION 4 START\")"
   ]
  },
  {
   "cell_type": "code",
   "execution_count": 32,
   "metadata": {},
   "outputs": [
    {
     "name": "stdout",
     "output_type": "stream",
     "text": [
      "2020-02-15 22:27:14.254947\n",
      "MAIN FUNCTION 1 START\n",
      "2020-02-15 22:27:14.255042\n",
      "==============================\n",
      "2020-02-15 22:27:14.255146\n",
      "MAIN FUNCTION 2 START\n",
      "2020-02-15 22:27:14.255189\n",
      "==============================\n",
      "2020-02-15 22:27:14.255409\n",
      "MAIN FUNCTION 3 START\n",
      "2020-02-15 22:27:14.255449\n",
      "==============================\n",
      "2020-02-15 22:27:14.255519\n",
      "MAIN FUNCTION 4 START\n",
      "2020-02-15 22:27:14.255551\n",
      "==============================\n"
     ]
    }
   ],
   "source": [
    "main_function_1()\n",
    "main_function_2()\n",
    "main_function_3()\n",
    "main_function_4()"
   ]
  },
  {
   "cell_type": "code",
   "execution_count": 23,
   "metadata": {},
   "outputs": [],
   "source": [
    "class DatetimeDecorator:\n",
    "\n",
    "        def __call__(self, *args, **kwargs):\n",
    "                print(datetime.datetime.now())"
   ]
  },
  {
   "cell_type": "code",
   "execution_count": 25,
   "metadata": {},
   "outputs": [],
   "source": [
    "d = DatetimeDecorator()"
   ]
  },
  {
   "cell_type": "code",
   "execution_count": 29,
   "metadata": {},
   "outputs": [
    {
     "name": "stdout",
     "output_type": "stream",
     "text": [
      "2020-02-15 22:24:48.759864\n"
     ]
    }
   ],
   "source": [
    "d()"
   ]
  },
  {
   "cell_type": "code",
   "execution_count": 33,
   "metadata": {},
   "outputs": [],
   "source": [
    "def datetime_decorator(original_func):\n",
    "        def wrapping_func(*args, **kwargs):\n",
    "                print(datetime.datetime.now())\n",
    "                original_func(*args, **kwargs)\n",
    "                print(datetime.datetime.now())\n",
    "                print(\"=\"*30)\n",
    "        return wrapping_func"
   ]
  },
  {
   "cell_type": "code",
   "execution_count": 34,
   "metadata": {},
   "outputs": [],
   "source": [
    "@datetime_decorator\n",
    "def main_function_name(name, age):\n",
    "     print(\"my name is {} and I'm {} years old\".format(name, age))"
   ]
  },
  {
   "cell_type": "code",
   "execution_count": 35,
   "metadata": {},
   "outputs": [
    {
     "name": "stdout",
     "output_type": "stream",
     "text": [
      "2020-02-15 22:29:51.661205\n",
      "my name is Minsub and I'm 28 years old\n",
      "2020-02-15 22:29:51.661680\n",
      "==============================\n"
     ]
    }
   ],
   "source": [
    "main_function_name(\"Minsub\", 28)"
   ]
  },
  {
   "cell_type": "code",
   "execution_count": null,
   "metadata": {},
   "outputs": [],
   "source": []
  }
 ],
 "metadata": {
  "kernelspec": {
   "display_name": "Python 3",
   "language": "python",
   "name": "python3"
  },
  "language_info": {
   "codemirror_mode": {
    "name": "ipython",
    "version": 3
   },
   "file_extension": ".py",
   "mimetype": "text/x-python",
   "name": "python",
   "nbconvert_exporter": "python",
   "pygments_lexer": "ipython3",
   "version": "3.6.10"
  }
 },
 "nbformat": 4,
 "nbformat_minor": 2
}
